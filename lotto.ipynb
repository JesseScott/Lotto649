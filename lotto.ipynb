{
 "cells": [
  {
   "cell_type": "markdown",
   "metadata": {
    "nbpresent": {
     "id": "50c98eca-2d76-4df0-870b-7afb9ace6114"
    }
   },
   "source": [
    "# Lotto Number Predictions\n",
    "\n",
    "This notebook performs a download of the most recent winning numbers from the Lotto649 (a lottery managed by the **British Columbia Lotto Corporation** in BC, Canada), and performs basic number analysis on them in order to describe the most winningest numbers in history.\n",
    "\n"
   ]
  },
  {
   "cell_type": "markdown",
   "metadata": {},
   "source": [
    "## Imports"
   ]
  },
  {
   "cell_type": "code",
   "execution_count": 32,
   "metadata": {
    "collapsed": true
   },
   "outputs": [],
   "source": [
    "import sys\n",
    "import pandas as pd\n",
    "import urllib.request\n",
    "import zipfile\n",
    "\n",
    "%matplotlib inline\n",
    "import matplotlib.pyplot as plt\n",
    "plt.rcParams['figure.figsize'] = (20.0, 10.0)"
   ]
  },
  {
   "cell_type": "markdown",
   "metadata": {
    "nbpresent": {
     "id": "b0365fe3-9b6a-43cd-9f85-13a37861fca4"
    }
   },
   "source": [
    "## Resources"
   ]
  },
  {
   "cell_type": "code",
   "execution_count": 33,
   "metadata": {
    "nbpresent": {
     "id": "65814a9d-f164-4771-8496-d13c551565ff"
    }
   },
   "outputs": [
    {
     "name": "stdout",
     "output_type": "stream",
     "text": [
      "### Downloading http://www.bclc.com/documents/DownloadableNumbers/CSV/649.zip and saving as data/649\n",
      "### Unzipping 649 at data/\n"
     ]
    }
   ],
   "source": [
    "# Main Getter Function\n",
    "\n",
    "# Download \n",
    "def dl_file(url, data_path, file_name):\n",
    "    print(\"### Downloading \" + url + \" and saving as \" + data_path + file_name)\n",
    "    urllib.request.urlretrieve(url, data_path + file_name)\n",
    "    \n",
    "    \n",
    "# Unzip\n",
    "def unzip(data_path, file_name):\n",
    "  print(\"### Unzipping \" + file_name + \" at \" + data_path)\n",
    "  #extension = \".zip\"\n",
    "\n",
    "  zip_ref = zipfile.ZipFile(data_path + file_name, 'r')\n",
    "  zip_ref.extractall(data_path)\n",
    "  zip_ref.close()\n",
    "\n",
    "# Variables \n",
    "# TODO - make abstract to handle other sets\n",
    "url = \"http://www.bclc.com/documents/DownloadableNumbers/CSV/649.zip\"\n",
    "data_path = \"data/\"\n",
    "file_name = \"649\"\n",
    "\n",
    "# download zip file and save\n",
    "dl_file(url, data_path, file_name)\n",
    "\n",
    "# unzip to csv\n",
    "unzip(data_path, file_name)\n"
   ]
  },
  {
   "cell_type": "markdown",
   "metadata": {
    "collapsed": true,
    "nbpresent": {
     "id": "d2497799-b4a8-454c-b6d2-068f440d0f0a"
    }
   },
   "source": [
    "## Conversion"
   ]
  },
  {
   "cell_type": "code",
   "execution_count": 34,
   "metadata": {
    "nbpresent": {
     "id": "484bd418-432e-4e4f-ac7c-dccc2b5e4b24"
    }
   },
   "outputs": [
    {
     "data": {
      "text/html": [
       "<div>\n",
       "<table border=\"1\" class=\"dataframe\">\n",
       "  <thead>\n",
       "    <tr style=\"text-align: right;\">\n",
       "      <th></th>\n",
       "      <th>PRODUCT</th>\n",
       "      <th>SEQUENCE NUMBER</th>\n",
       "      <th>DRAW DATE</th>\n",
       "      <th>NUMBER DRAWN 1</th>\n",
       "      <th>NUMBER DRAWN 2</th>\n",
       "      <th>NUMBER DRAWN 3</th>\n",
       "      <th>NUMBER DRAWN 4</th>\n",
       "      <th>NUMBER DRAWN 5</th>\n",
       "      <th>NUMBER DRAWN 6</th>\n",
       "      <th>BONUS NUMBER</th>\n",
       "    </tr>\n",
       "    <tr>\n",
       "      <th>DRAW NUMBER</th>\n",
       "      <th></th>\n",
       "      <th></th>\n",
       "      <th></th>\n",
       "      <th></th>\n",
       "      <th></th>\n",
       "      <th></th>\n",
       "      <th></th>\n",
       "      <th></th>\n",
       "      <th></th>\n",
       "      <th></th>\n",
       "    </tr>\n",
       "  </thead>\n",
       "  <tbody>\n",
       "    <tr>\n",
       "      <th>3499</th>\n",
       "      <td>649</td>\n",
       "      <td>0</td>\n",
       "      <td>2017-08-02</td>\n",
       "      <td>13</td>\n",
       "      <td>16</td>\n",
       "      <td>24</td>\n",
       "      <td>25</td>\n",
       "      <td>38</td>\n",
       "      <td>43</td>\n",
       "      <td>48</td>\n",
       "    </tr>\n",
       "    <tr>\n",
       "      <th>3500</th>\n",
       "      <td>649</td>\n",
       "      <td>0</td>\n",
       "      <td>2017-08-05</td>\n",
       "      <td>18</td>\n",
       "      <td>21</td>\n",
       "      <td>36</td>\n",
       "      <td>41</td>\n",
       "      <td>45</td>\n",
       "      <td>47</td>\n",
       "      <td>17</td>\n",
       "    </tr>\n",
       "    <tr>\n",
       "      <th>3501</th>\n",
       "      <td>649</td>\n",
       "      <td>0</td>\n",
       "      <td>2017-08-09</td>\n",
       "      <td>16</td>\n",
       "      <td>23</td>\n",
       "      <td>28</td>\n",
       "      <td>38</td>\n",
       "      <td>41</td>\n",
       "      <td>43</td>\n",
       "      <td>19</td>\n",
       "    </tr>\n",
       "    <tr>\n",
       "      <th>3502</th>\n",
       "      <td>649</td>\n",
       "      <td>0</td>\n",
       "      <td>2017-08-12</td>\n",
       "      <td>5</td>\n",
       "      <td>8</td>\n",
       "      <td>13</td>\n",
       "      <td>25</td>\n",
       "      <td>33</td>\n",
       "      <td>45</td>\n",
       "      <td>38</td>\n",
       "    </tr>\n",
       "    <tr>\n",
       "      <th>3503</th>\n",
       "      <td>649</td>\n",
       "      <td>0</td>\n",
       "      <td>2017-08-16</td>\n",
       "      <td>25</td>\n",
       "      <td>29</td>\n",
       "      <td>30</td>\n",
       "      <td>31</td>\n",
       "      <td>33</td>\n",
       "      <td>47</td>\n",
       "      <td>34</td>\n",
       "    </tr>\n",
       "  </tbody>\n",
       "</table>\n",
       "</div>"
      ],
      "text/plain": [
       "             PRODUCT  SEQUENCE NUMBER   DRAW DATE  NUMBER DRAWN 1  \\\n",
       "DRAW NUMBER                                                         \n",
       "3499             649                0  2017-08-02              13   \n",
       "3500             649                0  2017-08-05              18   \n",
       "3501             649                0  2017-08-09              16   \n",
       "3502             649                0  2017-08-12               5   \n",
       "3503             649                0  2017-08-16              25   \n",
       "\n",
       "             NUMBER DRAWN 2  NUMBER DRAWN 3  NUMBER DRAWN 4  NUMBER DRAWN 5  \\\n",
       "DRAW NUMBER                                                                   \n",
       "3499                     16              24              25              38   \n",
       "3500                     21              36              41              45   \n",
       "3501                     23              28              38              41   \n",
       "3502                      8              13              25              33   \n",
       "3503                     29              30              31              33   \n",
       "\n",
       "             NUMBER DRAWN 6  BONUS NUMBER  \n",
       "DRAW NUMBER                                \n",
       "3499                     43            48  \n",
       "3500                     47            17  \n",
       "3501                     43            19  \n",
       "3502                     45            38  \n",
       "3503                     47            34  "
      ]
     },
     "execution_count": 34,
     "metadata": {},
     "output_type": "execute_result"
    }
   ],
   "source": [
    "base_reader = pd.read_csv(data_path + file_name + \".csv\")\n",
    "base_reader.set_index(\"DRAW NUMBER\", inplace=True)\n",
    "base_reader.tail()"
   ]
  },
  {
   "cell_type": "code",
   "execution_count": 35,
   "metadata": {
    "nbpresent": {
     "id": "41c93ba9-8d03-429b-b6ce-a7fba584ee4a"
    }
   },
   "outputs": [
    {
     "data": {
      "text/html": [
       "<div>\n",
       "<table border=\"1\" class=\"dataframe\">\n",
       "  <thead>\n",
       "    <tr style=\"text-align: right;\">\n",
       "      <th></th>\n",
       "      <th>NUMBER DRAWN 1</th>\n",
       "      <th>NUMBER DRAWN 2</th>\n",
       "      <th>NUMBER DRAWN 3</th>\n",
       "      <th>NUMBER DRAWN 4</th>\n",
       "      <th>NUMBER DRAWN 5</th>\n",
       "      <th>NUMBER DRAWN 6</th>\n",
       "    </tr>\n",
       "    <tr>\n",
       "      <th>DRAW NUMBER</th>\n",
       "      <th></th>\n",
       "      <th></th>\n",
       "      <th></th>\n",
       "      <th></th>\n",
       "      <th></th>\n",
       "      <th></th>\n",
       "    </tr>\n",
       "  </thead>\n",
       "  <tbody>\n",
       "    <tr>\n",
       "      <th>3499</th>\n",
       "      <td>13</td>\n",
       "      <td>16</td>\n",
       "      <td>24</td>\n",
       "      <td>25</td>\n",
       "      <td>38</td>\n",
       "      <td>43</td>\n",
       "    </tr>\n",
       "    <tr>\n",
       "      <th>3500</th>\n",
       "      <td>18</td>\n",
       "      <td>21</td>\n",
       "      <td>36</td>\n",
       "      <td>41</td>\n",
       "      <td>45</td>\n",
       "      <td>47</td>\n",
       "    </tr>\n",
       "    <tr>\n",
       "      <th>3501</th>\n",
       "      <td>16</td>\n",
       "      <td>23</td>\n",
       "      <td>28</td>\n",
       "      <td>38</td>\n",
       "      <td>41</td>\n",
       "      <td>43</td>\n",
       "    </tr>\n",
       "    <tr>\n",
       "      <th>3502</th>\n",
       "      <td>5</td>\n",
       "      <td>8</td>\n",
       "      <td>13</td>\n",
       "      <td>25</td>\n",
       "      <td>33</td>\n",
       "      <td>45</td>\n",
       "    </tr>\n",
       "    <tr>\n",
       "      <th>3503</th>\n",
       "      <td>25</td>\n",
       "      <td>29</td>\n",
       "      <td>30</td>\n",
       "      <td>31</td>\n",
       "      <td>33</td>\n",
       "      <td>47</td>\n",
       "    </tr>\n",
       "  </tbody>\n",
       "</table>\n",
       "</div>"
      ],
      "text/plain": [
       "             NUMBER DRAWN 1  NUMBER DRAWN 2  NUMBER DRAWN 3  NUMBER DRAWN 4  \\\n",
       "DRAW NUMBER                                                                   \n",
       "3499                     13              16              24              25   \n",
       "3500                     18              21              36              41   \n",
       "3501                     16              23              28              38   \n",
       "3502                      5               8              13              25   \n",
       "3503                     25              29              30              31   \n",
       "\n",
       "             NUMBER DRAWN 5  NUMBER DRAWN 6  \n",
       "DRAW NUMBER                                  \n",
       "3499                     38              43  \n",
       "3500                     45              47  \n",
       "3501                     41              43  \n",
       "3502                     33              45  \n",
       "3503                     33              47  "
      ]
     },
     "execution_count": 35,
     "metadata": {},
     "output_type": "execute_result"
    }
   ],
   "source": [
    "columns = list(base_reader.loc[:,'NUMBER DRAWN 1':'NUMBER DRAWN 6'])\n",
    "draws = base_reader[columns]\n",
    "\n",
    "draws.tail()"
   ]
  },
  {
   "cell_type": "markdown",
   "metadata": {
    "nbpresent": {
     "id": "6d451b67-a46e-40a5-93c1-3c72ce21bded"
    }
   },
   "source": [
    "## Analysis"
   ]
  },
  {
   "cell_type": "markdown",
   "metadata": {},
   "source": [
    "### Ball #1"
   ]
  },
  {
   "cell_type": "code",
   "execution_count": 88,
   "metadata": {
    "nbpresent": {
     "id": "0808c1f2-1d97-405c-b6e9-154fd2a841a2"
    }
   },
   "outputs": [
    {
     "data": {
      "text/plain": [
       "count    3577.000000\n",
       "mean        7.286273\n",
       "std         5.798944\n",
       "min         1.000000\n",
       "25%         3.000000\n",
       "50%         6.000000\n",
       "75%        10.000000\n",
       "max        38.000000\n",
       "Name: NUMBER DRAWN 1, dtype: float64"
      ]
     },
     "execution_count": 88,
     "metadata": {},
     "output_type": "execute_result"
    }
   ],
   "source": [
    "# set\n",
    "b1 = draws[\"NUMBER DRAWN 1\"]\n",
    "\n",
    "# describe\n",
    "b1.describe()"
   ]
  },
  {
   "cell_type": "code",
   "execution_count": 89,
   "metadata": {
    "nbpresent": {
     "id": "998cdfa7-f043-432f-b7ce-c0d60336a03a"
    }
   },
   "outputs": [
    {
     "data": {
      "text/plain": [
       "1     417\n",
       "2     384\n",
       "4     341\n",
       "3     340\n",
       "5     259\n",
       "6     228\n",
       "7     226\n",
       "9     185\n",
       "8     183\n",
       "10    147\n",
       "11    139\n",
       "12    121\n",
       "13    100\n",
       "14     70\n",
       "15     66\n",
       "16     66\n",
       "17     53\n",
       "18     46\n",
       "20     42\n",
       "19     39\n",
       "21     26\n",
       "23     26\n",
       "22     16\n",
       "24     12\n",
       "27     10\n",
       "26     10\n",
       "25      6\n",
       "28      6\n",
       "30      4\n",
       "29      4\n",
       "31      2\n",
       "33      1\n",
       "32      1\n",
       "38      1\n",
       "Name: NUMBER DRAWN 1, dtype: int64"
      ]
     },
     "execution_count": 89,
     "metadata": {},
     "output_type": "execute_result"
    }
   ],
   "source": [
    "# unique\n",
    "b1vc = b1.value_counts()\n",
    "b1vc.columns = [\"value\"]\n",
    "b1vc"
   ]
  },
  {
   "cell_type": "code",
   "execution_count": 69,
   "metadata": {},
   "outputs": [
    {
     "data": {
      "text/plain": [
       "<matplotlib.axes._subplots.AxesSubplot at 0x1252f3f28>"
      ]
     },
     "execution_count": 69,
     "metadata": {},
     "output_type": "execute_result"
    },
    {
     "data": {
      "image/png": "[encoded data removed]",
      "text/plain": [
       "<matplotlib.figure.Figure at 0x11ec32a20>"
      ]
     },
     "metadata": {},
     "output_type": "display_data"
    }
   ],
   "source": [
    "b1vc.plot(kind='bar')"
   ]
  },
  {
   "cell_type": "markdown",
   "metadata": {},
   "source": [
    "### Ball #2"
   ]
  },
  {
   "cell_type": "code",
   "execution_count": 86,
   "metadata": {},
   "outputs": [
    {
     "data": {
      "text/plain": [
       "count    3577.000000\n",
       "mean       14.525860\n",
       "std         7.565853\n",
       "min         2.000000\n",
       "25%         8.000000\n",
       "50%        14.000000\n",
       "75%        20.000000\n",
       "max        43.000000\n",
       "Name: NUMBER DRAWN 2, dtype: float64"
      ]
     },
     "execution_count": 86,
     "metadata": {},
     "output_type": "execute_result"
    }
   ],
   "source": [
    "# set\n",
    "b2 = draws[\"NUMBER DRAWN 2\"]\n",
    "\n",
    "# describe\n",
    "b2.describe()"
   ]
  },
  {
   "cell_type": "code",
   "execution_count": 87,
   "metadata": {},
   "outputs": [
    {
     "data": {
      "text/plain": [
       "12    191\n",
       "8     186\n",
       "10    179\n",
       "7     175\n",
       "9     174\n",
       "13    172\n",
       "15    171\n",
       "14    169\n",
       "11    159\n",
       "16    157\n",
       "17    154\n",
       "5     151\n",
       "6     148\n",
       "20    131\n",
       "19    127\n",
       "18    125\n",
       "21    123\n",
       "4      97\n",
       "3      91\n",
       "22     91\n",
       "23     80\n",
       "24     79\n",
       "26     65\n",
       "25     58\n",
       "27     49\n",
       "2      47\n",
       "29     47\n",
       "28     42\n",
       "30     39\n",
       "32     26\n",
       "31     19\n",
       "33     13\n",
       "35     11\n",
       "34     11\n",
       "36      4\n",
       "37      4\n",
       "38      3\n",
       "40      3\n",
       "39      3\n",
       "43      1\n",
       "41      1\n",
       "42      1\n",
       "Name: NUMBER DRAWN 2, dtype: int64"
      ]
     },
     "execution_count": 87,
     "metadata": {},
     "output_type": "execute_result"
    }
   ],
   "source": [
    "# unique\n",
    "b2vc = b2.value_counts()\n",
    "b2vc.columns = [\"value\"]\n",
    "b2vc"
   ]
  },
  {
   "cell_type": "code",
   "execution_count": 66,
   "metadata": {},
   "outputs": [
    {
     "data": {
      "text/plain": [
       "<matplotlib.axes._subplots.AxesSubplot at 0x11f066c50>"
      ]
     },
     "execution_count": 66,
     "metadata": {},
     "output_type": "execute_result"
    },
    {
     "data": {
      "image/png": "[encoded data removed]",
      "text/plain": [
       "<matplotlib.figure.Figure at 0x123349588>"
      ]
     },
     "metadata": {},
     "output_type": "display_data"
    }
   ],
   "source": [
    "b2vc.plot(kind='bar')"
   ]
  },
  {
   "cell_type": "markdown",
   "metadata": {},
   "source": [
    "### Ball #3"
   ]
  },
  {
   "cell_type": "code",
   "execution_count": 85,
   "metadata": {},
   "outputs": [
    {
     "data": {
      "text/plain": [
       "count    3577.000000\n",
       "mean       21.854068\n",
       "std         8.182514\n",
       "min         3.000000\n",
       "25%        16.000000\n",
       "50%        22.000000\n",
       "75%        28.000000\n",
       "max        45.000000\n",
       "Name: NUMBER DRAWN 3, dtype: float64"
      ]
     },
     "execution_count": 85,
     "metadata": {},
     "output_type": "execute_result"
    }
   ],
   "source": [
    "# set\n",
    "b3 = draws[\"NUMBER DRAWN 3\"]\n",
    "\n",
    "# describe\n",
    "b3.describe()"
   ]
  },
  {
   "cell_type": "code",
   "execution_count": 80,
   "metadata": {},
   "outputs": [
    {
     "data": {
      "text/plain": [
       "22    175\n",
       "23    166\n",
       "20    162\n",
       "21    158\n",
       "19    156\n",
       "25    155\n",
       "24    154\n",
       "17    152\n",
       "18    146\n",
       "16    138\n",
       "26    132\n",
       "15    129\n",
       "27    123\n",
       "29    123\n",
       "14    113\n",
       "13    110\n",
       "28    107\n",
       "12    103\n",
       "30     99\n",
       "31     94\n",
       "32     89\n",
       "11     87\n",
       "33     80\n",
       "10     71\n",
       "34     69\n",
       "9      66\n",
       "8      57\n",
       "36     56\n",
       "7      50\n",
       "35     50\n",
       "6      40\n",
       "37     36\n",
       "38     28\n",
       "40     26\n",
       "39     21\n",
       "41     18\n",
       "5      15\n",
       "42      6\n",
       "4       6\n",
       "43      5\n",
       "3       3\n",
       "44      2\n",
       "45      1\n",
       "Name: NUMBER DRAWN 3, dtype: int64"
      ]
     },
     "execution_count": 80,
     "metadata": {},
     "output_type": "execute_result"
    }
   ],
   "source": [
    "# unique\n",
    "b3vc = b3.value_counts()\n",
    "b3vc.columns = [\"value\"]\n",
    "b3vc"
   ]
  },
  {
   "cell_type": "code",
   "execution_count": 73,
   "metadata": {},
   "outputs": [
    {
     "data": {
      "text/plain": [
       "<matplotlib.axes._subplots.AxesSubplot at 0x127ff0978>"
      ]
     },
     "execution_count": 73,
     "metadata": {},
     "output_type": "execute_result"
    },
    {
     "data": {
      "image/png": "[encoded data removed]",
      "text/plain": [
       "<matplotlib.figure.Figure at 0x127ef35f8>"
      ]
     },
     "metadata": {},
     "output_type": "display_data"
    }
   ],
   "source": [
    "b3vc.plot(kind='bar')"
   ]
  },
  {
   "cell_type": "markdown",
   "metadata": {},
   "source": [
    "### Ball #4"
   ]
  },
  {
   "cell_type": "code",
   "execution_count": 83,
   "metadata": {},
   "outputs": [
    {
     "data": {
      "text/plain": [
       "count    3577.000000\n",
       "mean       28.968130\n",
       "std         8.076299\n",
       "min         4.000000\n",
       "25%        23.000000\n",
       "50%        29.000000\n",
       "75%        35.000000\n",
       "max        47.000000\n",
       "Name: NUMBER DRAWN 4, dtype: float64"
      ]
     },
     "execution_count": 83,
     "metadata": {},
     "output_type": "execute_result"
    }
   ],
   "source": [
    "# set\n",
    "b4 = draws[\"NUMBER DRAWN 4\"]\n",
    "\n",
    "# describe\n",
    "b4.describe()"
   ]
  },
  {
   "cell_type": "code",
   "execution_count": 84,
   "metadata": {},
   "outputs": [
    {
     "data": {
      "text/plain": [
       "31    195\n",
       "27    171\n",
       "34    168\n",
       "32    160\n",
       "33    160\n",
       "28    157\n",
       "26    155\n",
       "30    152\n",
       "29    145\n",
       "36    138\n",
       "25    133\n",
       "23    129\n",
       "35    127\n",
       "37    121\n",
       "24    115\n",
       "38    114\n",
       "20    105\n",
       "22    105\n",
       "39    104\n",
       "40    100\n",
       "21     94\n",
       "19     79\n",
       "18     78\n",
       "41     78\n",
       "16     60\n",
       "42     59\n",
       "17     58\n",
       "15     47\n",
       "43     46\n",
       "14     34\n",
       "44     28\n",
       "11     25\n",
       "13     25\n",
       "12     24\n",
       "45     20\n",
       "10     19\n",
       "9      15\n",
       "46     13\n",
       "8      11\n",
       "47      4\n",
       "7       3\n",
       "4       2\n",
       "6       1\n",
       "Name: NUMBER DRAWN 4, dtype: int64"
      ]
     },
     "execution_count": 84,
     "metadata": {},
     "output_type": "execute_result"
    }
   ],
   "source": [
    "# unique\n",
    "b4vc = b4.value_counts()\n",
    "b4vc.columns = [\"value\"]\n",
    "b4vc"
   ]
  },
  {
   "cell_type": "code",
   "execution_count": 82,
   "metadata": {},
   "outputs": [
    {
     "data": {
      "text/plain": [
       "<matplotlib.axes._subplots.AxesSubplot at 0x127d94630>"
      ]
     },
     "execution_count": 82,
     "metadata": {},
     "output_type": "execute_result"
    },
    {
     "data": {
      "image/png": "[encoded data removed]",
      "text/plain": [
       "<matplotlib.figure.Figure at 0x127d0b940>"
      ]
     },
     "metadata": {},
     "output_type": "display_data"
    }
   ],
   "source": [
    "b4vc.plot(kind='bar')"
   ]
  },
  {
   "cell_type": "markdown",
   "metadata": {},
   "source": [
    "### Ball #5"
   ]
  },
  {
   "cell_type": "code",
   "execution_count": 90,
   "metadata": {},
   "outputs": [
    {
     "data": {
      "text/plain": [
       "count    3577.000000\n",
       "mean       36.150126\n",
       "std         7.195543\n",
       "min        11.000000\n",
       "25%        31.000000\n",
       "50%        37.000000\n",
       "75%        42.000000\n",
       "max        48.000000\n",
       "Name: NUMBER DRAWN 5, dtype: float64"
      ]
     },
     "execution_count": 90,
     "metadata": {},
     "output_type": "execute_result"
    }
   ],
   "source": [
    "# set\n",
    "b5 = draws[\"NUMBER DRAWN 5\"]\n",
    "\n",
    "# describe\n",
    "b5.describe()"
   ]
  },
  {
   "cell_type": "code",
   "execution_count": 91,
   "metadata": {},
   "outputs": [
    {
     "data": {
      "text/plain": [
       "38    207\n",
       "41    203\n",
       "40    196\n",
       "43    190\n",
       "37    182\n",
       "34    181\n",
       "42    180\n",
       "39    178\n",
       "35    163\n",
       "36    162\n",
       "44    161\n",
       "45    153\n",
       "33    140\n",
       "31    138\n",
       "46    136\n",
       "32    125\n",
       "30    111\n",
       "27     92\n",
       "29     87\n",
       "28     82\n",
       "47     79\n",
       "26     62\n",
       "24     62\n",
       "25     55\n",
       "48     44\n",
       "23     38\n",
       "22     35\n",
       "21     34\n",
       "20     27\n",
       "19     22\n",
       "17     15\n",
       "18     11\n",
       "14      8\n",
       "13      6\n",
       "16      5\n",
       "12      3\n",
       "11      2\n",
       "15      2\n",
       "Name: NUMBER DRAWN 5, dtype: int64"
      ]
     },
     "execution_count": 91,
     "metadata": {},
     "output_type": "execute_result"
    }
   ],
   "source": [
    "# unique\n",
    "b5vc = b5.value_counts()\n",
    "b5vc.columns = [\"value\"]\n",
    "b5vc"
   ]
  },
  {
   "cell_type": "code",
   "execution_count": 92,
   "metadata": {},
   "outputs": [
    {
     "data": {
      "text/plain": [
       "<matplotlib.axes._subplots.AxesSubplot at 0x127f0da20>"
      ]
     },
     "execution_count": 92,
     "metadata": {},
     "output_type": "execute_result"
    },
    {
     "data": {
      "image/png": "[encoded data removed]",
      "text/plain": [
       "<matplotlib.figure.Figure at 0x127f670b8>"
      ]
     },
     "metadata": {},
     "output_type": "display_data"
    }
   ],
   "source": [
    "b5vc.plot(kind='bar')"
   ]
  },
  {
   "cell_type": "markdown",
   "metadata": {},
   "source": [
    "\n",
    "### Ball #6\n"
   ]
  },
  {
   "cell_type": "code",
   "execution_count": 94,
   "metadata": {},
   "outputs": [
    {
     "data": {
      "text/plain": [
       "count    3577.000000\n",
       "mean       43.101761\n",
       "std         5.506071\n",
       "min        13.000000\n",
       "25%        40.000000\n",
       "50%        45.000000\n",
       "75%        47.000000\n",
       "max        49.000000\n",
       "Name: NUMBER DRAWN 6, dtype: float64"
      ]
     },
     "execution_count": 94,
     "metadata": {},
     "output_type": "execute_result"
    }
   ],
   "source": [
    "# set\n",
    "b6 = draws[\"NUMBER DRAWN 6\"]\n",
    "\n",
    "# describe\n",
    "b6.describe()"
   ]
  },
  {
   "cell_type": "code",
   "execution_count": 95,
   "metadata": {},
   "outputs": [
    {
     "data": {
      "text/plain": [
       "49    434\n",
       "48    387\n",
       "47    383\n",
       "46    315\n",
       "45    304\n",
       "44    258\n",
       "43    229\n",
       "42    195\n",
       "41    153\n",
       "40    152\n",
       "39    120\n",
       "38    105\n",
       "37     86\n",
       "36     85\n",
       "35     73\n",
       "33     50\n",
       "34     43\n",
       "32     38\n",
       "31     36\n",
       "29     28\n",
       "30     23\n",
       "28     18\n",
       "27     18\n",
       "26     12\n",
       "23      7\n",
       "25      6\n",
       "24      5\n",
       "20      4\n",
       "21      4\n",
       "19      3\n",
       "13      1\n",
       "22      1\n",
       "18      1\n",
       "Name: NUMBER DRAWN 6, dtype: int64"
      ]
     },
     "execution_count": 95,
     "metadata": {},
     "output_type": "execute_result"
    }
   ],
   "source": [
    "# unique\n",
    "b6vc = b6.value_counts()\n",
    "b6vc.columns = [\"value\"]\n",
    "b6vc"
   ]
  },
  {
   "cell_type": "code",
   "execution_count": 96,
   "metadata": {},
   "outputs": [
    {
     "data": {
      "text/plain": [
       "<matplotlib.axes._subplots.AxesSubplot at 0x125fc0c50>"
      ]
     },
     "execution_count": 96,
     "metadata": {},
     "output_type": "execute_result"
    },
    {
     "data": {
      "image/png": "[encoded data removed]",
      "text/plain": [
       "<matplotlib.figure.Figure at 0x125f59f98>"
      ]
     },
     "metadata": {},
     "output_type": "display_data"
    }
   ],
   "source": [
    "b6vc.plot(kind='bar')"
   ]
  },
  {
   "cell_type": "code",
   "execution_count": null,
   "metadata": {
    "collapsed": true
   },
   "outputs": [],
   "source": []
  },
  {
   "cell_type": "markdown",
   "metadata": {},
   "source": [
    "## Max Numbers"
   ]
  },
  {
   "cell_type": "code",
   "execution_count": 56,
   "metadata": {
    "nbpresent": {
     "id": "fd75d5d1-a525-4ebd-8f40-6aac6b68c488"
    }
   },
   "outputs": [
    {
     "name": "stdout",
     "output_type": "stream",
     "text": [
      "Most drawn number for NUMBER DRAWN 1 is the number 1 at 417 times\n",
      "Most drawn number for NUMBER DRAWN 2 is the number 12 at 191 times\n",
      "Most drawn number for NUMBER DRAWN 3 is the number 22 at 175 times\n",
      "Most drawn number for NUMBER DRAWN 4 is the number 31 at 195 times\n",
      "Most drawn number for NUMBER DRAWN 5 is the number 38 at 207 times\n",
      "Most drawn number for NUMBER DRAWN 6 is the number 49 at 434 times\n"
     ]
    }
   ],
   "source": [
    "total_counts = []\n",
    "total_values = []\n",
    "for index, column in enumerate(draws.columns):\n",
    "    df = draws[column].value_counts().to_frame()\n",
    "    df.columns = [\"value\"]\n",
    "    val = df.iloc[0]\n",
    "    total_counts.append(val.name)\n",
    "    total_values.append(val.value)\n",
    "    print(\"Most drawn number for %s is the number %s at %s times\" % (draws.columns[index], str(val.name), str(val.item())) )"
   ]
  },
  {
   "cell_type": "code",
   "execution_count": 13,
   "metadata": {
    "nbpresent": {
     "id": "6e70315c-db7f-447a-844d-c29198f0da53"
    }
   },
   "outputs": [
    {
     "data": {
      "text/plain": [
       "[1, 12, 22, 31, 38, 49]"
      ]
     },
     "execution_count": 13,
     "metadata": {},
     "output_type": "execute_result"
    }
   ],
   "source": [
    "total_counts"
   ]
  },
  {
   "cell_type": "code",
   "execution_count": 14,
   "metadata": {},
   "outputs": [
    {
     "data": {
      "text/plain": [
       "[417, 191, 175, 195, 207, 434]"
      ]
     },
     "execution_count": 14,
     "metadata": {},
     "output_type": "execute_result"
    }
   ],
   "source": [
    "total_values"
   ]
  },
  {
   "cell_type": "code",
   "execution_count": 54,
   "metadata": {
    "collapsed": true,
    "nbpresent": {
     "id": "3e4715d0-f6c2-4215-96df-8c78a45e1a11"
    }
   },
   "outputs": [],
   "source": [
    "index = ['Ball 1','Ball 2','Ball 3','Ball 4','Ball 5','Ball 6']\n",
    "count = 'number chosen'\n",
    "value = 'times chosen'\n",
    "columns = [count,value]\n",
    "df = pd.DataFrame(index=index, columns=columns)\n",
    "df[count] = total_counts\n",
    "df[value] = total_values\n"
   ]
  },
  {
   "cell_type": "code",
   "execution_count": 55,
   "metadata": {
    "nbpresent": {
     "id": "d94f60c7-9fa4-4c20-96df-9d5c2a88fd7e"
    }
   },
   "outputs": [
    {
     "data": {
      "text/html": [
       "<div>\n",
       "<table border=\"1\" class=\"dataframe\">\n",
       "  <thead>\n",
       "    <tr style=\"text-align: right;\">\n",
       "      <th></th>\n",
       "      <th>number chosen</th>\n",
       "      <th>times chosen</th>\n",
       "    </tr>\n",
       "  </thead>\n",
       "  <tbody>\n",
       "    <tr>\n",
       "      <th>Ball 1</th>\n",
       "      <td>1</td>\n",
       "      <td>417</td>\n",
       "    </tr>\n",
       "    <tr>\n",
       "      <th>Ball 2</th>\n",
       "      <td>12</td>\n",
       "      <td>191</td>\n",
       "    </tr>\n",
       "    <tr>\n",
       "      <th>Ball 3</th>\n",
       "      <td>22</td>\n",
       "      <td>175</td>\n",
       "    </tr>\n",
       "    <tr>\n",
       "      <th>Ball 4</th>\n",
       "      <td>31</td>\n",
       "      <td>195</td>\n",
       "    </tr>\n",
       "    <tr>\n",
       "      <th>Ball 5</th>\n",
       "      <td>38</td>\n",
       "      <td>207</td>\n",
       "    </tr>\n",
       "    <tr>\n",
       "      <th>Ball 6</th>\n",
       "      <td>49</td>\n",
       "      <td>434</td>\n",
       "    </tr>\n",
       "  </tbody>\n",
       "</table>\n",
       "</div>"
      ],
      "text/plain": [
       "        number chosen  times chosen\n",
       "Ball 1              1           417\n",
       "Ball 2             12           191\n",
       "Ball 3             22           175\n",
       "Ball 4             31           195\n",
       "Ball 5             38           207\n",
       "Ball 6             49           434"
      ]
     },
     "execution_count": 55,
     "metadata": {},
     "output_type": "execute_result"
    }
   ],
   "source": [
    "df"
   ]
  },
  {
   "cell_type": "code",
   "execution_count": null,
   "metadata": {
    "collapsed": true,
    "nbpresent": {
     "id": "b7ec3f2d-5e13-478b-ad9b-a7f04ed04e25"
    }
   },
   "outputs": [],
   "source": []
  },
  {
   "cell_type": "code",
   "execution_count": null,
   "metadata": {
    "collapsed": true,
    "nbpresent": {
     "id": "caf291c8-392c-4f47-ae1a-3a388f0c2cc6"
    }
   },
   "outputs": [],
   "source": []
  },
  {
   "cell_type": "code",
   "execution_count": null,
   "metadata": {
    "collapsed": true,
    "nbpresent": {
     "id": "b67b048d-9339-4fd7-bff3-fa9dc94cb035"
    }
   },
   "outputs": [],
   "source": []
  },
  {
   "cell_type": "code",
   "execution_count": null,
   "metadata": {
    "collapsed": true,
    "nbpresent": {
     "id": "c8a6c59f-eb3c-4394-bcfc-eeee05f375e9"
    }
   },
   "outputs": [],
   "source": []
  },
  {
   "cell_type": "code",
   "execution_count": null,
   "metadata": {
    "collapsed": true,
    "nbpresent": {
     "id": "36f5dbd3-06ce-40bd-9a2d-0fa6bf583a23"
    }
   },
   "outputs": [],
   "source": []
  },
  {
   "cell_type": "code",
   "execution_count": null,
   "metadata": {
    "collapsed": true,
    "nbpresent": {
     "id": "967bc4ee-6376-44ac-a9a8-8982afd6b056"
    }
   },
   "outputs": [],
   "source": []
  },
  {
   "cell_type": "code",
   "execution_count": null,
   "metadata": {
    "collapsed": true,
    "nbpresent": {
     "id": "b03fd1c9-a140-4b31-9d8e-0d2fd5fbbab2"
    }
   },
   "outputs": [],
   "source": []
  },
  {
   "cell_type": "code",
   "execution_count": null,
   "metadata": {
    "collapsed": true,
    "nbpresent": {
     "id": "87f8951a-5300-4df7-a5ba-64823884ce90"
    }
   },
   "outputs": [],
   "source": []
  },
  {
   "cell_type": "code",
   "execution_count": null,
   "metadata": {
    "collapsed": true,
    "nbpresent": {
     "id": "dfbf11fb-f417-4533-be35-8087eb929f25"
    }
   },
   "outputs": [],
   "source": []
  },
  {
   "cell_type": "code",
   "execution_count": null,
   "metadata": {
    "collapsed": true,
    "nbpresent": {
     "id": "e2ecfbe1-a24c-4c41-a85b-5a3182fa00a3"
    }
   },
   "outputs": [],
   "source": []
  },
  {
   "cell_type": "code",
   "execution_count": null,
   "metadata": {
    "collapsed": true,
    "nbpresent": {
     "id": "a94a6c1f-d7fb-49e1-b9ad-30a834d9210a"
    }
   },
   "outputs": [],
   "source": []
  },
  {
   "cell_type": "code",
   "execution_count": null,
   "metadata": {
    "collapsed": true,
    "nbpresent": {
     "id": "9b9b2ad7-4b3a-4872-859c-7c71f7f86d09"
    }
   },
   "outputs": [],
   "source": []
  },
  {
   "cell_type": "code",
   "execution_count": null,
   "metadata": {
    "collapsed": true,
    "nbpresent": {
     "id": "6b858c71-f47b-4568-8f1f-825ba9c15f34"
    }
   },
   "outputs": [],
   "source": []
  },
  {
   "cell_type": "code",
   "execution_count": null,
   "metadata": {
    "collapsed": true,
    "nbpresent": {
     "id": "e9b57b25-d628-4dc8-a501-01a38544d240"
    }
   },
   "outputs": [],
   "source": []
  },
  {
   "cell_type": "code",
   "execution_count": null,
   "metadata": {
    "collapsed": true,
    "nbpresent": {
     "id": "5fe63cb4-8a30-47ef-924f-1bbee11ed40a"
    }
   },
   "outputs": [],
   "source": []
  },
  {
   "cell_type": "code",
   "execution_count": null,
   "metadata": {
    "collapsed": true,
    "nbpresent": {
     "id": "aff91a37-192c-43d3-a3d5-235433dbe467"
    }
   },
   "outputs": [],
   "source": []
  },
  {
   "cell_type": "code",
   "execution_count": null,
   "metadata": {
    "collapsed": true,
    "nbpresent": {
     "id": "0b11aaa4-66fb-45e6-b3bf-a3d0c4145a28"
    }
   },
   "outputs": [],
   "source": []
  },
  {
   "cell_type": "code",
   "execution_count": null,
   "metadata": {
    "collapsed": true,
    "nbpresent": {
     "id": "9ee82b39-1415-4f65-9aaf-6d33e88ec794"
    }
   },
   "outputs": [],
   "source": []
  },
  {
   "cell_type": "code",
   "execution_count": null,
   "metadata": {
    "collapsed": true,
    "nbpresent": {
     "id": "f99d277d-589a-4f38-bf5c-eccc8c763f21"
    }
   },
   "outputs": [],
   "source": []
  },
  {
   "cell_type": "code",
   "execution_count": null,
   "metadata": {
    "collapsed": true,
    "nbpresent": {
     "id": "4a111f38-3999-4974-9bda-8e97cfa794e6"
    }
   },
   "outputs": [],
   "source": []
  },
  {
   "cell_type": "code",
   "execution_count": null,
   "metadata": {
    "collapsed": true,
    "nbpresent": {
     "id": "ce7f873a-c800-4281-a326-0b486d0783e6"
    }
   },
   "outputs": [],
   "source": []
  },
  {
   "cell_type": "code",
   "execution_count": null,
   "metadata": {
    "collapsed": true,
    "nbpresent": {
     "id": "d2b47ec8-b103-4f42-8d64-5e86eff1c6bc"
    }
   },
   "outputs": [],
   "source": []
  },
  {
   "cell_type": "code",
   "execution_count": null,
   "metadata": {
    "collapsed": true,
    "nbpresent": {
     "id": "8e1d66d9-d61f-49d6-b1ef-2770ab8068d1"
    }
   },
   "outputs": [],
   "source": []
  },
  {
   "cell_type": "code",
   "execution_count": null,
   "metadata": {
    "collapsed": true,
    "nbpresent": {
     "id": "8147054d-6fc7-41af-8e1e-525907b43093"
    }
   },
   "outputs": [],
   "source": []
  },
  {
   "cell_type": "code",
   "execution_count": null,
   "metadata": {
    "collapsed": true,
    "nbpresent": {
     "id": "cbf5c074-81b5-431d-a752-4d0f6ba40d39"
    }
   },
   "outputs": [],
   "source": []
  },
  {
   "cell_type": "code",
   "execution_count": null,
   "metadata": {
    "collapsed": true,
    "nbpresent": {
     "id": "96d43954-dff7-4115-8b53-27137b3286c6"
    }
   },
   "outputs": [],
   "source": []
  },
  {
   "cell_type": "code",
   "execution_count": null,
   "metadata": {
    "collapsed": true,
    "nbpresent": {
     "id": "e686be80-5ee4-4f8d-af0a-c673edff2b2e"
    }
   },
   "outputs": [],
   "source": []
  },
  {
   "cell_type": "code",
   "execution_count": null,
   "metadata": {
    "collapsed": true,
    "nbpresent": {
     "id": "fbb84afa-80f5-413a-bb96-0c0853a859ec"
    }
   },
   "outputs": [],
   "source": []
  },
  {
   "cell_type": "code",
   "execution_count": null,
   "metadata": {
    "collapsed": true,
    "nbpresent": {
     "id": "c59420d6-a596-466b-ae7e-582daf713f0c"
    }
   },
   "outputs": [],
   "source": []
  },
  {
   "cell_type": "code",
   "execution_count": null,
   "metadata": {
    "collapsed": true,
    "nbpresent": {
     "id": "ee9ffa23-606d-49a1-bcfb-f58ebc1e03c1"
    }
   },
   "outputs": [],
   "source": []
  },
  {
   "cell_type": "code",
   "execution_count": null,
   "metadata": {
    "collapsed": true,
    "nbpresent": {
     "id": "33defd3e-bacd-4210-9c94-613073d88477"
    }
   },
   "outputs": [],
   "source": []
  },
  {
   "cell_type": "code",
   "execution_count": null,
   "metadata": {
    "collapsed": true,
    "nbpresent": {
     "id": "38eab938-ee9c-4680-bef6-e6558f4eec8e"
    }
   },
   "outputs": [],
   "source": []
  },
  {
   "cell_type": "code",
   "execution_count": null,
   "metadata": {
    "collapsed": true,
    "nbpresent": {
     "id": "6acc1bd5-b99d-41a7-8979-85637fbb7730"
    }
   },
   "outputs": [],
   "source": []
  },
  {
   "cell_type": "code",
   "execution_count": null,
   "metadata": {
    "collapsed": true,
    "nbpresent": {
     "id": "61b8784f-9a17-49f5-9e2b-a8e13ffad773"
    }
   },
   "outputs": [],
   "source": []
  },
  {
   "cell_type": "code",
   "execution_count": null,
   "metadata": {
    "collapsed": true,
    "nbpresent": {
     "id": "f8abda38-f26f-4660-86b4-9a788734b23a"
    }
   },
   "outputs": [],
   "source": []
  },
  {
   "cell_type": "code",
   "execution_count": null,
   "metadata": {
    "collapsed": true,
    "nbpresent": {
     "id": "28269391-9a6c-4b6e-bc74-6327b7571e44"
    }
   },
   "outputs": [],
   "source": []
  },
  {
   "cell_type": "code",
   "execution_count": null,
   "metadata": {
    "collapsed": true,
    "nbpresent": {
     "id": "4bab90fb-c416-4b6a-95fa-9a1d202d63a7"
    }
   },
   "outputs": [],
   "source": []
  },
  {
   "cell_type": "code",
   "execution_count": null,
   "metadata": {
    "collapsed": true,
    "nbpresent": {
     "id": "1f8a3f4d-8636-4f91-a052-2c936a105800"
    }
   },
   "outputs": [],
   "source": []
  },
  {
   "cell_type": "code",
   "execution_count": null,
   "metadata": {
    "collapsed": true,
    "nbpresent": {
     "id": "ee301510-1c52-49b0-96e5-dea654ba7d87"
    }
   },
   "outputs": [],
   "source": []
  },
  {
   "cell_type": "code",
   "execution_count": null,
   "metadata": {
    "collapsed": true,
    "nbpresent": {
     "id": "e3bc58cf-6471-4b49-b715-9a4b285243e2"
    }
   },
   "outputs": [],
   "source": []
  },
  {
   "cell_type": "code",
   "execution_count": 2,
   "metadata": {
    "collapsed": true,
    "nbpresent": {
     "id": "c4d0550e-ee7e-4122-a6a2-15aef0d69f50"
    }
   },
   "outputs": [],
   "source": []
  },
  {
   "cell_type": "code",
   "execution_count": null,
   "metadata": {
    "collapsed": true,
    "nbpresent": {
     "id": "8dad12c9-1bc0-4e8c-99e9-1830f7f2ef8c"
    }
   },
   "outputs": [],
   "source": []
  },
  {
   "cell_type": "code",
   "execution_count": null,
   "metadata": {
    "collapsed": true,
    "nbpresent": {
     "id": "56a0e34f-4d4a-456a-833d-6f102827a423"
    }
   },
   "outputs": [],
   "source": []
  },
  {
   "cell_type": "code",
   "execution_count": null,
   "metadata": {
    "collapsed": true,
    "nbpresent": {
     "id": "ccc7d6b2-606c-4a16-b076-f6ca7dfb9265"
    }
   },
   "outputs": [],
   "source": []
  },
  {
   "cell_type": "code",
   "execution_count": 3,
   "metadata": {
    "collapsed": true,
    "nbpresent": {
     "id": "6d500da0-8c21-49c5-840d-16158bd33609"
    }
   },
   "outputs": [],
   "source": []
  },
  {
   "cell_type": "code",
   "execution_count": null,
   "metadata": {
    "collapsed": true,
    "nbpresent": {
     "id": "e9aba4fb-7f4a-4758-b840-6c3af1fe3d96"
    }
   },
   "outputs": [],
   "source": [
    "\n"
   ]
  },
  {
   "cell_type": "code",
   "execution_count": null,
   "metadata": {
    "collapsed": true,
    "nbpresent": {
     "id": "40777118-7e8e-4be9-af20-98aa8ea75245"
    }
   },
   "outputs": [],
   "source": []
  },
  {
   "cell_type": "code",
   "execution_count": null,
   "metadata": {
    "collapsed": true,
    "nbpresent": {
     "id": "6cb592b4-925a-4c72-bd7f-72f6098448cb"
    }
   },
   "outputs": [],
   "source": []
  }
 ],
 "metadata": {
  "anaconda-cloud": {},
  "kernelspec": {
   "display_name": "Python [conda env:py3]",
   "language": "python",
   "name": "conda-env-py3-py"
  },
  "language_info": {
   "codemirror_mode": {
    "name": "ipython",
    "version": 3
   },
   "file_extension": ".py",
   "mimetype": "text/x-python",
   "name": "python",
   "nbconvert_exporter": "python",
   "pygments_lexer": "ipython3",
   "version": "3.5.2"
  },
  "nbpresent": {
   "slides": {},
   "themes": {
    "default": "71d481f0-e879-441e-b145-8c1789eece9d",
    "theme": {
     "71d481f0-e879-441e-b145-8c1789eece9d": {
      "id": "71d481f0-e879-441e-b145-8c1789eece9d",
      "palette": {
       "19cc588f-0593-49c9-9f4b-e4d7cc113b1c": {
        "id": "19cc588f-0593-49c9-9f4b-e4d7cc113b1c",
        "rgb": [
         252,
         252,
         252
        ]
       },
       "31af15d2-7e15-44c5-ab5e-e04b16a89eff": {
        "id": "31af15d2-7e15-44c5-ab5e-e04b16a89eff",
        "rgb": [
         68,
         68,
         68
        ]
       },
       "50f92c45-a630-455b-aec3-788680ec7410": {
        "id": "50f92c45-a630-455b-aec3-788680ec7410",
        "rgb": [
         155,
         177,
         192
        ]
       },
       "c5cc3653-2ee1-402a-aba2-7caae1da4f6c": {
        "id": "c5cc3653-2ee1-402a-aba2-7caae1da4f6c",
        "rgb": [
         43,
         126,
         184
        ]
       },
       "efa7f048-9acb-414c-8b04-a26811511a21": {
        "id": "efa7f048-9acb-414c-8b04-a26811511a21",
        "rgb": [
         25.118061674008803,
         73.60176211453744,
         107.4819383259912
        ]
       }
      },
      "rules": {
       "blockquote": {
        "color": "50f92c45-a630-455b-aec3-788680ec7410"
       },
       "code": {
        "font-family": "Anonymous Pro"
       },
       "h1": {
        "color": "c5cc3653-2ee1-402a-aba2-7caae1da4f6c",
        "font-family": "Lato",
        "font-size": 8
       },
       "h2": {
        "color": "c5cc3653-2ee1-402a-aba2-7caae1da4f6c",
        "font-family": "Lato",
        "font-size": 6
       },
       "h3": {
        "color": "50f92c45-a630-455b-aec3-788680ec7410",
        "font-family": "Lato",
        "font-size": 5.5
       },
       "h4": {
        "color": "c5cc3653-2ee1-402a-aba2-7caae1da4f6c",
        "font-family": "Lato",
        "font-size": 5
       },
       "h5": {
        "font-family": "Lato"
       },
       "h6": {
        "font-family": "Lato"
       },
       "h7": {
        "font-family": "Lato"
       },
       "pre": {
        "font-family": "Anonymous Pro",
        "font-size": 4
       }
      },
      "text-base": {
       "font-family": "Merriweather",
       "font-size": 4
      }
     }
    }
   }
  }
 },
 "nbformat": 4,
 "nbformat_minor": 1
}
