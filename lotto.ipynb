{
 "cells": [
  {
   "cell_type": "code",
   "execution_count": null,
   "metadata": {
    "collapsed": false
   },
   "outputs": [],
   "source": [
    "\n"
   ]
  },
  {
   "cell_type": "code",
   "execution_count": null,
   "metadata": {
    "collapsed": false
   },
   "outputs": [],
   "source": []
  },
  {
   "cell_type": "code",
   "execution_count": 2,
   "metadata": {
    "collapsed": false
   },
   "outputs": [
    {
     "name": "stdout",
     "output_type": "stream",
     "text": [
      "Phoebe barwell has already voted! Fraud!\n",
      "Procopio zito has already voted! Fraud!\n",
      "\n",
      "Results:\n",
      "\n",
      "Sicily giant: 57\n",
      "Plum purple: 56\n",
      "Snow belle: 63\n",
      "April cross: 72\n",
      "Cherry belle: 58\n",
      "French breakfast: 72\n",
      "Daikon: 63\n",
      "Red king: 56\n",
      "White icicle: 64\n",
      "Bunny tail: 72\n",
      "Champion: 76\n",
      "The winner is: Champion with 76\n"
     ]
    }
   ],
   "source": [
    "# %load lotto.py\n",
    "#!/usr/bin/python\n",
    "\n",
    "import sys\n",
    "from zip import unzip\n",
    "from network import dl_file\n",
    "from pprint import pprint\n",
    "\n",
    "# variables\n",
    "url = \"http://www.bclc.com/documents/DownloadableNumbers/CSV/649.zip\"\n",
    "data_path = \"data/\"\n",
    "file_name = \"649.zip\"\n",
    "\n",
    "# download zip file and save\n",
    "#dl_file(url, data_path, file_name)\n",
    "\n",
    "# unzip to csv\n",
    "#unzip(data_path, file_name)\n",
    "\n",
    "\n",
    "#####\n",
    "\n",
    "# Create an empty dictionary for associating radish names\n",
    "# with vote counts\n",
    "counts = {}\n",
    "\n",
    "# Create an empty list with the names of everyone who voted\n",
    "voted = []\n",
    "\n",
    "# Clean up (munge) a string so it's easy to match against other strings\n",
    "def clean_string(s):\n",
    "    return s.strip().capitalize().replace(\"  \",\" \")\n",
    "\n",
    "# Check if someone has voted already and return True or False\n",
    "def has_already_voted(name):\n",
    "    if name in voted:\n",
    "        print(name + \" has already voted! Fraud!\")\n",
    "        return True\n",
    "    return False\n",
    "\n",
    "# Count a vote for the radish variety named 'radish'\n",
    "def count_vote(radish):\n",
    "    if not radish in counts:\n",
    "        # First vote for this variety\n",
    "        counts[radish] = 1\n",
    "    else:\n",
    "        # Increment the radish count\n",
    "        counts[radish] = counts[radish] + 1\n",
    "\n",
    "for line in open(\"data/radish.txt\"):\n",
    "    line = line.strip()\n",
    "    name, vote = line.split(\" - \")\n",
    "    name = clean_string(name)\n",
    "    vote = clean_string(vote)\n",
    "\n",
    "    if not has_already_voted(name):\n",
    "        count_vote(vote)\n",
    "    voted.append(name)\n",
    "\n",
    "print(\"\\nResults:\\n\")\n",
    "for name in counts:\n",
    "    print(name + \": \" + str(counts[name]))\n",
    "\n",
    "# Record the winning name and the votes cast for it\n",
    "winner_name = \"No winner\"\n",
    "winner_votes = 0\n",
    "\n",
    "for name in counts:\n",
    "    if counts[name] > winner_votes:\n",
    "        winner_votes = counts[name]\n",
    "        winner_name = name\n",
    "\n",
    "print(\"The winner is: \" + winner_name + \" with \" + str(winner_votes))\n"
   ]
  },
  {
   "cell_type": "code",
   "execution_count": null,
   "metadata": {
    "collapsed": true
   },
   "outputs": [],
   "source": []
  }
 ],
 "metadata": {
  "anaconda-cloud": {},
  "kernelspec": {
   "display_name": "Python [conda env:py3]",
   "language": "python",
   "name": "conda-env-py3-py"
  },
  "language_info": {
   "codemirror_mode": {
    "name": "ipython",
    "version": 3
   },
   "file_extension": ".py",
   "mimetype": "text/x-python",
   "name": "python",
   "nbconvert_exporter": "python",
   "pygments_lexer": "ipython3",
   "version": "3.5.2"
  }
 },
 "nbformat": 4,
 "nbformat_minor": 1
}
