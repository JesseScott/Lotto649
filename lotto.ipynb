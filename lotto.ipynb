{
 "cells": [
  {
   "cell_type": "code",
   "execution_count": 8,
   "metadata": {
    "collapsed": false
   },
   "outputs": [
    {
     "name": "stdout",
     "output_type": "stream",
     "text": [
      "Populating the interactive namespace from numpy and matplotlib\n"
     ]
    }
   ],
   "source": [
    "%matplotlib inline\n",
    "import matplotlib.pyplot as plt\n",
    "%pylab inline"
   ]
  },
  {
   "cell_type": "code",
   "execution_count": null,
   "metadata": {
    "collapsed": true
   },
   "outputs": [],
   "source": []
  },
  {
   "cell_type": "code",
   "execution_count": 10,
   "metadata": {
    "collapsed": false
   },
   "outputs": [
    {
     "name": "stdout",
     "output_type": "stream",
     "text": [
      "### Downloading http://www.bclc.com/documents/DownloadableNumbers/CSV/649.zip and saving as data/649\n",
      "### Unzipping 649 at data/\n"
     ]
    }
   ],
   "source": [
    "# %load lotto.py\n",
    "#!/usr/bin/python\n",
    "\n",
    "import sys\n",
    "import pandas as pd\n",
    "from zip import unzip\n",
    "from network import dl_file\n",
    "from reader import read_csv, read_last_line\n",
    "from pprint import pprint\n",
    "\n",
    "# variables\n",
    "url = \"http://www.bclc.com/documents/DownloadableNumbers/CSV/649.zip\"\n",
    "data_path = \"data/\"\n",
    "file_name = \"649\"\n",
    "\n",
    "# download zip file and save\n",
    "dl_file(url, data_path, file_name)\n",
    "\n",
    "# unzip to csv\n",
    "unzip(data_path, file_name)\n",
    "\n",
    "# read csv\n",
    "#read_last_line(data_path, file_name)\n",
    "#read_csv(data_path, file_name)\n"
   ]
  },
  {
   "cell_type": "code",
   "execution_count": null,
   "metadata": {
    "collapsed": true
   },
   "outputs": [],
   "source": []
  },
  {
   "cell_type": "code",
   "execution_count": 19,
   "metadata": {
    "collapsed": false
   },
   "outputs": [
    {
     "data": {
      "text/html": [
       "<div>\n",
       "<table border=\"1\" class=\"dataframe\">\n",
       "  <thead>\n",
       "    <tr style=\"text-align: right;\">\n",
       "      <th></th>\n",
       "      <th>PRODUCT</th>\n",
       "      <th>SEQUENCE NUMBER</th>\n",
       "      <th>DRAW DATE</th>\n",
       "      <th>NUMBER DRAWN 1</th>\n",
       "      <th>NUMBER DRAWN 2</th>\n",
       "      <th>NUMBER DRAWN 3</th>\n",
       "      <th>NUMBER DRAWN 4</th>\n",
       "      <th>NUMBER DRAWN 5</th>\n",
       "      <th>NUMBER DRAWN 6</th>\n",
       "      <th>BONUS NUMBER</th>\n",
       "    </tr>\n",
       "    <tr>\n",
       "      <th>DRAW NUMBER</th>\n",
       "      <th></th>\n",
       "      <th></th>\n",
       "      <th></th>\n",
       "      <th></th>\n",
       "      <th></th>\n",
       "      <th></th>\n",
       "      <th></th>\n",
       "      <th></th>\n",
       "      <th></th>\n",
       "      <th></th>\n",
       "    </tr>\n",
       "  </thead>\n",
       "  <tbody>\n",
       "    <tr>\n",
       "      <th>1</th>\n",
       "      <td>649</td>\n",
       "      <td>0</td>\n",
       "      <td>1982-06-12</td>\n",
       "      <td>3</td>\n",
       "      <td>11</td>\n",
       "      <td>12</td>\n",
       "      <td>14</td>\n",
       "      <td>41</td>\n",
       "      <td>43</td>\n",
       "      <td>13</td>\n",
       "    </tr>\n",
       "    <tr>\n",
       "      <th>2</th>\n",
       "      <td>649</td>\n",
       "      <td>0</td>\n",
       "      <td>1982-06-19</td>\n",
       "      <td>8</td>\n",
       "      <td>33</td>\n",
       "      <td>36</td>\n",
       "      <td>37</td>\n",
       "      <td>39</td>\n",
       "      <td>41</td>\n",
       "      <td>9</td>\n",
       "    </tr>\n",
       "    <tr>\n",
       "      <th>3</th>\n",
       "      <td>649</td>\n",
       "      <td>0</td>\n",
       "      <td>1982-06-26</td>\n",
       "      <td>1</td>\n",
       "      <td>6</td>\n",
       "      <td>23</td>\n",
       "      <td>24</td>\n",
       "      <td>27</td>\n",
       "      <td>39</td>\n",
       "      <td>34</td>\n",
       "    </tr>\n",
       "    <tr>\n",
       "      <th>4</th>\n",
       "      <td>649</td>\n",
       "      <td>0</td>\n",
       "      <td>1982-07-03</td>\n",
       "      <td>3</td>\n",
       "      <td>9</td>\n",
       "      <td>10</td>\n",
       "      <td>13</td>\n",
       "      <td>20</td>\n",
       "      <td>43</td>\n",
       "      <td>34</td>\n",
       "    </tr>\n",
       "    <tr>\n",
       "      <th>5</th>\n",
       "      <td>649</td>\n",
       "      <td>0</td>\n",
       "      <td>1982-07-10</td>\n",
       "      <td>5</td>\n",
       "      <td>14</td>\n",
       "      <td>21</td>\n",
       "      <td>31</td>\n",
       "      <td>34</td>\n",
       "      <td>47</td>\n",
       "      <td>45</td>\n",
       "    </tr>\n",
       "  </tbody>\n",
       "</table>\n",
       "</div>"
      ],
      "text/plain": [
       "             PRODUCT  SEQUENCE NUMBER   DRAW DATE  NUMBER DRAWN 1  \\\n",
       "DRAW NUMBER                                                         \n",
       "1                649                0  1982-06-12               3   \n",
       "2                649                0  1982-06-19               8   \n",
       "3                649                0  1982-06-26               1   \n",
       "4                649                0  1982-07-03               3   \n",
       "5                649                0  1982-07-10               5   \n",
       "\n",
       "             NUMBER DRAWN 2  NUMBER DRAWN 3  NUMBER DRAWN 4  NUMBER DRAWN 5  \\\n",
       "DRAW NUMBER                                                                   \n",
       "1                        11              12              14              41   \n",
       "2                        33              36              37              39   \n",
       "3                         6              23              24              27   \n",
       "4                         9              10              13              20   \n",
       "5                        14              21              31              34   \n",
       "\n",
       "             NUMBER DRAWN 6  BONUS NUMBER  \n",
       "DRAW NUMBER                                \n",
       "1                        43            13  \n",
       "2                        41             9  \n",
       "3                        39            34  \n",
       "4                        43            34  \n",
       "5                        47            45  "
      ]
     },
     "execution_count": 19,
     "metadata": {},
     "output_type": "execute_result"
    }
   ],
   "source": [
    "reader = pd.read_csv(data_path + file_name + \".csv\")\n",
    "reader.set_index(\"DRAW NUMBER\", inplace=True)\n",
    "reader.head()"
   ]
  },
  {
   "cell_type": "code",
   "execution_count": 25,
   "metadata": {
    "collapsed": false
   },
   "outputs": [
    {
     "data": {
      "text/html": [
       "<div>\n",
       "<table border=\"1\" class=\"dataframe\">\n",
       "  <thead>\n",
       "    <tr style=\"text-align: right;\">\n",
       "      <th></th>\n",
       "      <th>NUMBER DRAWN 1</th>\n",
       "      <th>NUMBER DRAWN 2</th>\n",
       "      <th>NUMBER DRAWN 3</th>\n",
       "      <th>NUMBER DRAWN 4</th>\n",
       "      <th>NUMBER DRAWN 5</th>\n",
       "      <th>NUMBER DRAWN 6</th>\n",
       "    </tr>\n",
       "    <tr>\n",
       "      <th>DRAW NUMBER</th>\n",
       "      <th></th>\n",
       "      <th></th>\n",
       "      <th></th>\n",
       "      <th></th>\n",
       "      <th></th>\n",
       "      <th></th>\n",
       "    </tr>\n",
       "  </thead>\n",
       "  <tbody>\n",
       "    <tr>\n",
       "      <th>1</th>\n",
       "      <td>3</td>\n",
       "      <td>11</td>\n",
       "      <td>12</td>\n",
       "      <td>14</td>\n",
       "      <td>41</td>\n",
       "      <td>43</td>\n",
       "    </tr>\n",
       "    <tr>\n",
       "      <th>2</th>\n",
       "      <td>8</td>\n",
       "      <td>33</td>\n",
       "      <td>36</td>\n",
       "      <td>37</td>\n",
       "      <td>39</td>\n",
       "      <td>41</td>\n",
       "    </tr>\n",
       "    <tr>\n",
       "      <th>3</th>\n",
       "      <td>1</td>\n",
       "      <td>6</td>\n",
       "      <td>23</td>\n",
       "      <td>24</td>\n",
       "      <td>27</td>\n",
       "      <td>39</td>\n",
       "    </tr>\n",
       "    <tr>\n",
       "      <th>4</th>\n",
       "      <td>3</td>\n",
       "      <td>9</td>\n",
       "      <td>10</td>\n",
       "      <td>13</td>\n",
       "      <td>20</td>\n",
       "      <td>43</td>\n",
       "    </tr>\n",
       "    <tr>\n",
       "      <th>5</th>\n",
       "      <td>5</td>\n",
       "      <td>14</td>\n",
       "      <td>21</td>\n",
       "      <td>31</td>\n",
       "      <td>34</td>\n",
       "      <td>47</td>\n",
       "    </tr>\n",
       "  </tbody>\n",
       "</table>\n",
       "</div>"
      ],
      "text/plain": [
       "             NUMBER DRAWN 1  NUMBER DRAWN 2  NUMBER DRAWN 3  NUMBER DRAWN 4  \\\n",
       "DRAW NUMBER                                                                   \n",
       "1                         3              11              12              14   \n",
       "2                         8              33              36              37   \n",
       "3                         1               6              23              24   \n",
       "4                         3               9              10              13   \n",
       "5                         5              14              21              31   \n",
       "\n",
       "             NUMBER DRAWN 5  NUMBER DRAWN 6  \n",
       "DRAW NUMBER                                  \n",
       "1                        41              43  \n",
       "2                        39              41  \n",
       "3                        27              39  \n",
       "4                        20              43  \n",
       "5                        34              47  "
      ]
     },
     "execution_count": 25,
     "metadata": {},
     "output_type": "execute_result"
    }
   ],
   "source": [
    "reader2 = reader[[\"NUMBER DRAWN 1\",\"NUMBER DRAWN 2\",\"NUMBER DRAWN 3\",\"NUMBER DRAWN 4\",\"NUMBER DRAWN 5\",\"NUMBER DRAWN 6\"]]\n",
    "reader2.head()"
   ]
  },
  {
   "cell_type": "code",
   "execution_count": 26,
   "metadata": {
    "collapsed": false
   },
   "outputs": [
    {
     "data": {
      "image/png": "[encoded data removed]",
      "text/plain": [
       "<matplotlib.figure.Figure at 0x1129bc4a8>"
      ]
     },
     "metadata": {},
     "output_type": "display_data"
    }
   ],
   "source": [
    "reader2.plot()\n",
    "plt.show()"
   ]
  },
  {
   "cell_type": "code",
   "execution_count": 39,
   "metadata": {
    "collapsed": false
   },
   "outputs": [
    {
     "data": {
      "text/html": [
       "<div>\n",
       "<table border=\"1\" class=\"dataframe\">\n",
       "  <thead>\n",
       "    <tr style=\"text-align: right;\">\n",
       "      <th></th>\n",
       "      <th>NUMBER DRAWN 1</th>\n",
       "    </tr>\n",
       "    <tr>\n",
       "      <th>DRAW NUMBER</th>\n",
       "      <th></th>\n",
       "    </tr>\n",
       "  </thead>\n",
       "  <tbody>\n",
       "    <tr>\n",
       "      <th>1</th>\n",
       "      <td>3</td>\n",
       "    </tr>\n",
       "    <tr>\n",
       "      <th>2</th>\n",
       "      <td>8</td>\n",
       "    </tr>\n",
       "    <tr>\n",
       "      <th>3</th>\n",
       "      <td>1</td>\n",
       "    </tr>\n",
       "    <tr>\n",
       "      <th>4</th>\n",
       "      <td>3</td>\n",
       "    </tr>\n",
       "    <tr>\n",
       "      <th>5</th>\n",
       "      <td>5</td>\n",
       "    </tr>\n",
       "  </tbody>\n",
       "</table>\n",
       "</div>"
      ],
      "text/plain": [
       "             NUMBER DRAWN 1\n",
       "DRAW NUMBER                \n",
       "1                         3\n",
       "2                         8\n",
       "3                         1\n",
       "4                         3\n",
       "5                         5"
      ]
     },
     "execution_count": 39,
     "metadata": {},
     "output_type": "execute_result"
    }
   ],
   "source": [
    "draw_one = reader[[\"NUMBER DRAWN 1\"]]\n",
    "draw_one.head()"
   ]
  },
  {
   "cell_type": "code",
   "execution_count": null,
   "metadata": {
    "collapsed": true
   },
   "outputs": [],
   "source": []
  },
  {
   "cell_type": "code",
   "execution_count": 35,
   "metadata": {
    "collapsed": false
   },
   "outputs": [
    {
     "data": {
      "text/plain": [
       "NUMBER DRAWN 1    64\n",
       "dtype: int64"
      ]
     },
     "execution_count": 35,
     "metadata": {},
     "output_type": "execute_result"
    }
   ],
   "source": [
    "# one way\n",
    "(draw_one == 16).sum()"
   ]
  },
  {
   "cell_type": "code",
   "execution_count": 38,
   "metadata": {
    "collapsed": false
   },
   "outputs": [
    {
     "data": {
      "text/plain": [
       "NUMBER DRAWN 1    64\n",
       "dtype: int64"
      ]
     },
     "execution_count": 38,
     "metadata": {},
     "output_type": "execute_result"
    }
   ],
   "source": [
    "# another way\n",
    "draw_one[draw_one == 16].count()"
   ]
  },
  {
   "cell_type": "code",
   "execution_count": 49,
   "metadata": {
    "collapsed": false
   },
   "outputs": [
    {
     "data": {
      "text/plain": [
       "NUMBER DRAWN 1    1\n",
       "dtype: int64"
      ]
     },
     "execution_count": 49,
     "metadata": {},
     "output_type": "execute_result"
    }
   ],
   "source": [
    "# store min\n",
    "min = draw_one.min()\n",
    "min"
   ]
  },
  {
   "cell_type": "code",
   "execution_count": 54,
   "metadata": {
    "collapsed": false
   },
   "outputs": [
    {
     "data": {
      "text/plain": [
       "NUMBER DRAWN 1    38\n",
       "dtype: int64"
      ]
     },
     "execution_count": 54,
     "metadata": {},
     "output_type": "execute_result"
    }
   ],
   "source": [
    "# store max\n",
    "max = draw_one.max()\n",
    "max"
   ]
  },
  {
   "cell_type": "code",
   "execution_count": 61,
   "metadata": {
    "collapsed": false
   },
   "outputs": [
    {
     "data": {
      "text/plain": [
       "1     414\n",
       "2     382\n",
       "4     337\n",
       "3     335\n",
       "5     254\n",
       "6     226\n",
       "7     223\n",
       "9     183\n",
       "8     182\n",
       "10    145\n",
       "11    138\n",
       "12    119\n",
       "13     99\n",
       "14     70\n",
       "15     65\n",
       "16     64\n",
       "17     52\n",
       "18     44\n",
       "20     41\n",
       "19     39\n",
       "21     26\n",
       "23     26\n",
       "22     16\n",
       "24     12\n",
       "26     10\n",
       "27      9\n",
       "28      6\n",
       "25      5\n",
       "30      4\n",
       "29      4\n",
       "31      2\n",
       "33      1\n",
       "32      1\n",
       "38      1\n",
       "Name: NUMBER DRAWN 1, dtype: int64"
      ]
     },
     "execution_count": 61,
     "metadata": {},
     "output_type": "execute_result"
    }
   ],
   "source": [
    "draw_one['NUMBER DRAWN 1'].value_counts()"
   ]
  },
  {
   "cell_type": "code",
   "execution_count": null,
   "metadata": {
    "collapsed": true
   },
   "outputs": [],
   "source": []
  },
  {
   "cell_type": "code",
   "execution_count": 68,
   "metadata": {
    "collapsed": false
   },
   "outputs": [
    {
     "name": "stdout",
     "output_type": "stream",
     "text": [
      "1     414\n",
      "2     382\n",
      "4     337\n",
      "3     335\n",
      "5     254\n",
      "6     226\n",
      "7     223\n",
      "9     183\n",
      "8     182\n",
      "10    145\n",
      "11    138\n",
      "12    119\n",
      "13     99\n",
      "14     70\n",
      "15     65\n",
      "16     64\n",
      "17     52\n",
      "18     44\n",
      "20     41\n",
      "19     39\n",
      "21     26\n",
      "23     26\n",
      "22     16\n",
      "24     12\n",
      "26     10\n",
      "27      9\n",
      "28      6\n",
      "25      5\n",
      "30      4\n",
      "29      4\n",
      "31      2\n",
      "33      1\n",
      "32      1\n",
      "38      1\n",
      "Name: NUMBER DRAWN 1, dtype: int64\n",
      "12    187\n",
      "8     183\n",
      "10    177\n",
      "7     172\n",
      "9     171\n",
      "13    171\n",
      "14    169\n",
      "15    169\n",
      "11    157\n",
      "16    155\n",
      "17    153\n",
      "5     148\n",
      "6     147\n",
      "20    131\n",
      "18    125\n",
      "19    123\n",
      "21    121\n",
      "4      96\n",
      "22     91\n",
      "3      90\n",
      "23     78\n",
      "24     78\n",
      "26     65\n",
      "25     57\n",
      "27     49\n",
      "2      46\n",
      "29     46\n",
      "28     42\n",
      "30     39\n",
      "32     26\n",
      "31     19\n",
      "33     13\n",
      "35     11\n",
      "34     11\n",
      "36      4\n",
      "37      4\n",
      "38      3\n",
      "39      3\n",
      "40      2\n",
      "43      1\n",
      "41      1\n",
      "42      1\n",
      "Name: NUMBER DRAWN 2, dtype: int64\n",
      "22    172\n",
      "23    165\n",
      "20    162\n",
      "21    156\n",
      "19    155\n",
      "25    153\n",
      "24    153\n",
      "17    150\n",
      "18    144\n",
      "16    136\n",
      "26    129\n",
      "15    128\n",
      "29    123\n",
      "27    122\n",
      "14    112\n",
      "13    109\n",
      "28    106\n",
      "12    103\n",
      "30     97\n",
      "31     94\n",
      "32     88\n",
      "11     86\n",
      "33     79\n",
      "34     68\n",
      "10     68\n",
      "9      64\n",
      "8      55\n",
      "36     54\n",
      "35     50\n",
      "7      49\n",
      "6      40\n",
      "37     35\n",
      "38     28\n",
      "40     26\n",
      "39     21\n",
      "41     17\n",
      "5      15\n",
      "42      6\n",
      "4       6\n",
      "43      5\n",
      "3       3\n",
      "44      2\n",
      "45      1\n",
      "Name: NUMBER DRAWN 3, dtype: int64\n",
      "31    192\n",
      "27    170\n",
      "34    167\n",
      "33    159\n",
      "32    158\n",
      "28    157\n",
      "26    152\n",
      "30    150\n",
      "29    144\n",
      "36    136\n",
      "25    131\n",
      "23    128\n",
      "35    127\n",
      "37    121\n",
      "24    113\n",
      "38    111\n",
      "20    104\n",
      "22    104\n",
      "39    103\n",
      "40     98\n",
      "21     92\n",
      "19     79\n",
      "18     78\n",
      "41     76\n",
      "42     58\n",
      "16     58\n",
      "17     57\n",
      "15     46\n",
      "43     46\n",
      "14     34\n",
      "44     28\n",
      "12     24\n",
      "13     24\n",
      "11     23\n",
      "45     20\n",
      "10     19\n",
      "9      14\n",
      "46     13\n",
      "8      11\n",
      "47      4\n",
      "7       3\n",
      "4       2\n",
      "6       1\n",
      "Name: NUMBER DRAWN 4, dtype: int64\n",
      "38    204\n",
      "41    198\n",
      "40    195\n",
      "43    188\n",
      "42    180\n",
      "37    180\n",
      "39    178\n",
      "34    178\n",
      "35    162\n",
      "36    160\n",
      "44    159\n",
      "45    148\n",
      "31    138\n",
      "46    135\n",
      "33    135\n",
      "32    125\n",
      "30    109\n",
      "27     89\n",
      "29     87\n",
      "28     81\n",
      "47     77\n",
      "26     62\n",
      "24     62\n",
      "25     55\n",
      "48     44\n",
      "23     38\n",
      "21     34\n",
      "22     34\n",
      "20     27\n",
      "19     22\n",
      "17     15\n",
      "18     11\n",
      "14      8\n",
      "13      6\n",
      "16      5\n",
      "11      2\n",
      "15      2\n",
      "12      2\n",
      "Name: NUMBER DRAWN 5, dtype: int64\n",
      "49    428\n",
      "48    382\n",
      "47    380\n",
      "46    309\n",
      "45    300\n",
      "44    255\n",
      "43    227\n",
      "42    194\n",
      "41    152\n",
      "40    150\n",
      "39    118\n",
      "38    103\n",
      "37     86\n",
      "36     83\n",
      "35     72\n",
      "33     50\n",
      "34     42\n",
      "32     38\n",
      "31     36\n",
      "29     28\n",
      "30     22\n",
      "28     18\n",
      "27     18\n",
      "26     12\n",
      "23      7\n",
      "25      6\n",
      "24      5\n",
      "20      4\n",
      "21      4\n",
      "19      3\n",
      "13      1\n",
      "22      1\n",
      "18      1\n",
      "Name: NUMBER DRAWN 6, dtype: int64\n"
     ]
    }
   ],
   "source": [
    "for column in reader2.columns:\n",
    "    print(reader2[column].value_counts())"
   ]
  },
  {
   "cell_type": "code",
   "execution_count": null,
   "metadata": {
    "collapsed": true
   },
   "outputs": [],
   "source": []
  },
  {
   "cell_type": "code",
   "execution_count": null,
   "metadata": {
    "collapsed": true
   },
   "outputs": [],
   "source": []
  },
  {
   "cell_type": "code",
   "execution_count": null,
   "metadata": {
    "collapsed": true
   },
   "outputs": [],
   "source": []
  },
  {
   "cell_type": "code",
   "execution_count": null,
   "metadata": {
    "collapsed": true
   },
   "outputs": [],
   "source": []
  },
  {
   "cell_type": "code",
   "execution_count": null,
   "metadata": {
    "collapsed": true
   },
   "outputs": [],
   "source": []
  },
  {
   "cell_type": "code",
   "execution_count": null,
   "metadata": {
    "collapsed": true
   },
   "outputs": [],
   "source": []
  },
  {
   "cell_type": "code",
   "execution_count": null,
   "metadata": {
    "collapsed": true
   },
   "outputs": [],
   "source": []
  },
  {
   "cell_type": "code",
   "execution_count": null,
   "metadata": {
    "collapsed": true
   },
   "outputs": [],
   "source": []
  },
  {
   "cell_type": "code",
   "execution_count": null,
   "metadata": {
    "collapsed": true
   },
   "outputs": [],
   "source": []
  },
  {
   "cell_type": "code",
   "execution_count": null,
   "metadata": {
    "collapsed": false
   },
   "outputs": [],
   "source": []
  },
  {
   "cell_type": "code",
   "execution_count": null,
   "metadata": {
    "collapsed": true
   },
   "outputs": [],
   "source": []
  },
  {
   "cell_type": "code",
   "execution_count": null,
   "metadata": {
    "collapsed": false
   },
   "outputs": [],
   "source": []
  },
  {
   "cell_type": "code",
   "execution_count": null,
   "metadata": {
    "collapsed": true
   },
   "outputs": [],
   "source": []
  },
  {
   "cell_type": "code",
   "execution_count": null,
   "metadata": {
    "collapsed": true
   },
   "outputs": [],
   "source": []
  },
  {
   "cell_type": "code",
   "execution_count": null,
   "metadata": {
    "collapsed": true
   },
   "outputs": [],
   "source": []
  },
  {
   "cell_type": "code",
   "execution_count": null,
   "metadata": {
    "collapsed": true
   },
   "outputs": [],
   "source": []
  },
  {
   "cell_type": "code",
   "execution_count": null,
   "metadata": {
    "collapsed": true
   },
   "outputs": [],
   "source": []
  },
  {
   "cell_type": "code",
   "execution_count": null,
   "metadata": {
    "collapsed": true
   },
   "outputs": [],
   "source": []
  },
  {
   "cell_type": "code",
   "execution_count": null,
   "metadata": {
    "collapsed": true
   },
   "outputs": [],
   "source": []
  },
  {
   "cell_type": "code",
   "execution_count": null,
   "metadata": {
    "collapsed": true
   },
   "outputs": [],
   "source": []
  },
  {
   "cell_type": "code",
   "execution_count": null,
   "metadata": {
    "collapsed": true
   },
   "outputs": [],
   "source": []
  },
  {
   "cell_type": "code",
   "execution_count": null,
   "metadata": {
    "collapsed": true
   },
   "outputs": [],
   "source": []
  },
  {
   "cell_type": "code",
   "execution_count": null,
   "metadata": {
    "collapsed": true
   },
   "outputs": [],
   "source": []
  },
  {
   "cell_type": "code",
   "execution_count": null,
   "metadata": {
    "collapsed": true
   },
   "outputs": [],
   "source": []
  },
  {
   "cell_type": "code",
   "execution_count": null,
   "metadata": {
    "collapsed": true
   },
   "outputs": [],
   "source": []
  },
  {
   "cell_type": "code",
   "execution_count": null,
   "metadata": {
    "collapsed": true
   },
   "outputs": [],
   "source": []
  },
  {
   "cell_type": "code",
   "execution_count": null,
   "metadata": {
    "collapsed": true
   },
   "outputs": [],
   "source": []
  },
  {
   "cell_type": "code",
   "execution_count": null,
   "metadata": {
    "collapsed": true
   },
   "outputs": [],
   "source": []
  },
  {
   "cell_type": "code",
   "execution_count": null,
   "metadata": {
    "collapsed": true
   },
   "outputs": [],
   "source": []
  },
  {
   "cell_type": "code",
   "execution_count": null,
   "metadata": {
    "collapsed": true
   },
   "outputs": [],
   "source": []
  },
  {
   "cell_type": "code",
   "execution_count": null,
   "metadata": {
    "collapsed": false
   },
   "outputs": [],
   "source": []
  },
  {
   "cell_type": "code",
   "execution_count": null,
   "metadata": {
    "collapsed": true
   },
   "outputs": [],
   "source": []
  },
  {
   "cell_type": "code",
   "execution_count": null,
   "metadata": {
    "collapsed": true
   },
   "outputs": [],
   "source": []
  },
  {
   "cell_type": "code",
   "execution_count": null,
   "metadata": {
    "collapsed": true
   },
   "outputs": [],
   "source": []
  },
  {
   "cell_type": "code",
   "execution_count": null,
   "metadata": {
    "collapsed": true
   },
   "outputs": [],
   "source": []
  },
  {
   "cell_type": "code",
   "execution_count": null,
   "metadata": {
    "collapsed": false
   },
   "outputs": [],
   "source": []
  },
  {
   "cell_type": "code",
   "execution_count": null,
   "metadata": {
    "collapsed": true
   },
   "outputs": [],
   "source": []
  },
  {
   "cell_type": "code",
   "execution_count": null,
   "metadata": {
    "collapsed": true
   },
   "outputs": [],
   "source": []
  },
  {
   "cell_type": "code",
   "execution_count": null,
   "metadata": {
    "collapsed": true
   },
   "outputs": [],
   "source": []
  },
  {
   "cell_type": "code",
   "execution_count": null,
   "metadata": {
    "collapsed": true
   },
   "outputs": [],
   "source": []
  },
  {
   "cell_type": "code",
   "execution_count": null,
   "metadata": {
    "collapsed": true
   },
   "outputs": [],
   "source": []
  },
  {
   "cell_type": "code",
   "execution_count": null,
   "metadata": {
    "collapsed": true
   },
   "outputs": [],
   "source": []
  },
  {
   "cell_type": "code",
   "execution_count": null,
   "metadata": {
    "collapsed": true
   },
   "outputs": [],
   "source": []
  },
  {
   "cell_type": "code",
   "execution_count": 2,
   "metadata": {
    "collapsed": false
   },
   "outputs": [],
   "source": []
  },
  {
   "cell_type": "code",
   "execution_count": null,
   "metadata": {
    "collapsed": true
   },
   "outputs": [],
   "source": []
  },
  {
   "cell_type": "code",
   "execution_count": null,
   "metadata": {
    "collapsed": false
   },
   "outputs": [],
   "source": []
  },
  {
   "cell_type": "code",
   "execution_count": null,
   "metadata": {
    "collapsed": false
   },
   "outputs": [],
   "source": []
  },
  {
   "cell_type": "code",
   "execution_count": 3,
   "metadata": {
    "collapsed": true
   },
   "outputs": [],
   "source": []
  },
  {
   "cell_type": "code",
   "execution_count": null,
   "metadata": {
    "collapsed": false
   },
   "outputs": [],
   "source": [
    "\n"
   ]
  },
  {
   "cell_type": "code",
   "execution_count": null,
   "metadata": {
    "collapsed": true
   },
   "outputs": [],
   "source": []
  },
  {
   "cell_type": "code",
   "execution_count": null,
   "metadata": {
    "collapsed": false
   },
   "outputs": [],
   "source": []
  }
 ],
 "metadata": {
  "anaconda-cloud": {},
  "kernelspec": {
   "display_name": "Python [conda env:py3]",
   "language": "python",
   "name": "conda-env-py3-py"
  },
  "language_info": {
   "codemirror_mode": {
    "name": "ipython",
    "version": 3
   },
   "file_extension": ".py",
   "mimetype": "text/x-python",
   "name": "python",
   "nbconvert_exporter": "python",
   "pygments_lexer": "ipython3",
   "version": "3.5.2"
  }
 },
 "nbformat": 4,
 "nbformat_minor": 1
}
