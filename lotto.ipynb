{
 "cells": [
  {
   "cell_type": "markdown",
   "metadata": {
    "nbpresent": {
     "id": "50c98eca-2d76-4df0-870b-7afb9ace6114"
    }
   },
   "source": [
    "# Lotto Number Predictions\n",
    "\n",
    "This notebook performs a download of the most recent winning numbers from the Lotto649 (a lottery managed by the **British Columbia Lotto Corporation** in BC, Canada), and performs basic number analysis on them in order to describe the most winningest numbers in history.\n",
    "\n"
   ]
  },
  {
   "cell_type": "markdown",
   "metadata": {
    "nbpresent": {
     "id": "b0365fe3-9b6a-43cd-9f85-13a37861fca4"
    }
   },
   "source": [
    "## Resources"
   ]
  },
  {
   "cell_type": "code",
   "execution_count": 6,
   "metadata": {
    "nbpresent": {
     "id": "65814a9d-f164-4771-8496-d13c551565ff"
    }
   },
   "outputs": [
    {
     "name": "stdout",
     "output_type": "stream",
     "text": [
      "### Downloading http://www.bclc.com/documents/DownloadableNumbers/CSV/649.zip and saving as data/649\n",
      "### Unzipping 649 at data/\n"
     ]
    }
   ],
   "source": [
    "# Main Getter Function\n",
    "\n",
    "import sys\n",
    "import pandas as pd\n",
    "import urllib.request\n",
    "import zipfile\n",
    "\n",
    "# Download \n",
    "def dl_file(url, data_path, file_name):\n",
    "    print(\"### Downloading \" + url + \" and saving as \" + data_path + file_name)\n",
    "    urllib.request.urlretrieve(url, data_path + file_name)\n",
    "    \n",
    "    \n",
    "# Unzip\n",
    "def unzip(data_path, file_name):\n",
    "  print(\"### Unzipping \" + file_name + \" at \" + data_path)\n",
    "  #extension = \".zip\"\n",
    "\n",
    "  zip_ref = zipfile.ZipFile(data_path + file_name, 'r')\n",
    "  zip_ref.extractall(data_path)\n",
    "  zip_ref.close()\n",
    "\n",
    "# Variables - TODO - make abstract to handle other sets\n",
    "url = \"http://www.bclc.com/documents/DownloadableNumbers/CSV/649.zip\"\n",
    "data_path = \"data/\"\n",
    "file_name = \"649\"\n",
    "\n",
    "# download zip file and save\n",
    "dl_file(url, data_path, file_name)\n",
    "\n",
    "# unzip to csv\n",
    "unzip(data_path, file_name)\n"
   ]
  },
  {
   "cell_type": "markdown",
   "metadata": {
    "collapsed": true,
    "nbpresent": {
     "id": "d2497799-b4a8-454c-b6d2-068f440d0f0a"
    }
   },
   "source": [
    "## Conversion"
   ]
  },
  {
   "cell_type": "code",
   "execution_count": 7,
   "metadata": {
    "collapsed": true
   },
   "outputs": [],
   "source": [
    "import csv\n",
    "import pandas as pd\n",
    "\n",
    "\n",
    "def read_csv(data_path, file_name):\n",
    "    extension = \".csv\"\n",
    "    path = data_path + file_name + extension\n",
    "    print(\"### Reading \" + path)\n",
    "    index = 0\n",
    "\n",
    "    with open(path, newline='') as f:\n",
    "        #reader = csv.reader(f, delimiter=',')\n",
    "        reader = pd.read_csv(path)\n",
    "        reader.set_index(\"DRAW NUMBER\", inplace=True)\n",
    "        for row in reader:\n",
    "            print(', '.join(row))\n",
    "            index += 1\n",
    "\n",
    "        row_count = sum(1 for row in reader)\n",
    "        print(\"Read \" + str(index) + \" lines\")\n",
    "        return reader\n"
   ]
  },
  {
   "cell_type": "code",
   "execution_count": 8,
   "metadata": {
    "nbpresent": {
     "id": "484bd418-432e-4e4f-ac7c-dccc2b5e4b24"
    }
   },
   "outputs": [
    {
     "data": {
      "text/html": [
       "<div>\n",
       "<table border=\"1\" class=\"dataframe\">\n",
       "  <thead>\n",
       "    <tr style=\"text-align: right;\">\n",
       "      <th></th>\n",
       "      <th>PRODUCT</th>\n",
       "      <th>SEQUENCE NUMBER</th>\n",
       "      <th>DRAW DATE</th>\n",
       "      <th>NUMBER DRAWN 1</th>\n",
       "      <th>NUMBER DRAWN 2</th>\n",
       "      <th>NUMBER DRAWN 3</th>\n",
       "      <th>NUMBER DRAWN 4</th>\n",
       "      <th>NUMBER DRAWN 5</th>\n",
       "      <th>NUMBER DRAWN 6</th>\n",
       "      <th>BONUS NUMBER</th>\n",
       "    </tr>\n",
       "    <tr>\n",
       "      <th>DRAW NUMBER</th>\n",
       "      <th></th>\n",
       "      <th></th>\n",
       "      <th></th>\n",
       "      <th></th>\n",
       "      <th></th>\n",
       "      <th></th>\n",
       "      <th></th>\n",
       "      <th></th>\n",
       "      <th></th>\n",
       "      <th></th>\n",
       "    </tr>\n",
       "  </thead>\n",
       "  <tbody>\n",
       "    <tr>\n",
       "      <th>3489</th>\n",
       "      <td>649</td>\n",
       "      <td>0</td>\n",
       "      <td>2017-06-28</td>\n",
       "      <td>8</td>\n",
       "      <td>21</td>\n",
       "      <td>25</td>\n",
       "      <td>34</td>\n",
       "      <td>46</td>\n",
       "      <td>48</td>\n",
       "      <td>4</td>\n",
       "    </tr>\n",
       "    <tr>\n",
       "      <th>3490</th>\n",
       "      <td>649</td>\n",
       "      <td>0</td>\n",
       "      <td>2017-07-01</td>\n",
       "      <td>15</td>\n",
       "      <td>16</td>\n",
       "      <td>22</td>\n",
       "      <td>33</td>\n",
       "      <td>37</td>\n",
       "      <td>41</td>\n",
       "      <td>27</td>\n",
       "    </tr>\n",
       "    <tr>\n",
       "      <th>3491</th>\n",
       "      <td>649</td>\n",
       "      <td>0</td>\n",
       "      <td>2017-07-05</td>\n",
       "      <td>4</td>\n",
       "      <td>9</td>\n",
       "      <td>33</td>\n",
       "      <td>36</td>\n",
       "      <td>47</td>\n",
       "      <td>49</td>\n",
       "      <td>10</td>\n",
       "    </tr>\n",
       "    <tr>\n",
       "      <th>3492</th>\n",
       "      <td>649</td>\n",
       "      <td>0</td>\n",
       "      <td>2017-07-08</td>\n",
       "      <td>20</td>\n",
       "      <td>25</td>\n",
       "      <td>26</td>\n",
       "      <td>32</td>\n",
       "      <td>34</td>\n",
       "      <td>36</td>\n",
       "      <td>9</td>\n",
       "    </tr>\n",
       "    <tr>\n",
       "      <th>3493</th>\n",
       "      <td>649</td>\n",
       "      <td>0</td>\n",
       "      <td>2017-07-12</td>\n",
       "      <td>12</td>\n",
       "      <td>13</td>\n",
       "      <td>30</td>\n",
       "      <td>41</td>\n",
       "      <td>45</td>\n",
       "      <td>49</td>\n",
       "      <td>16</td>\n",
       "    </tr>\n",
       "  </tbody>\n",
       "</table>\n",
       "</div>"
      ],
      "text/plain": [
       "             PRODUCT  SEQUENCE NUMBER   DRAW DATE  NUMBER DRAWN 1  \\\n",
       "DRAW NUMBER                                                         \n",
       "3489             649                0  2017-06-28               8   \n",
       "3490             649                0  2017-07-01              15   \n",
       "3491             649                0  2017-07-05               4   \n",
       "3492             649                0  2017-07-08              20   \n",
       "3493             649                0  2017-07-12              12   \n",
       "\n",
       "             NUMBER DRAWN 2  NUMBER DRAWN 3  NUMBER DRAWN 4  NUMBER DRAWN 5  \\\n",
       "DRAW NUMBER                                                                   \n",
       "3489                     21              25              34              46   \n",
       "3490                     16              22              33              37   \n",
       "3491                      9              33              36              47   \n",
       "3492                     25              26              32              34   \n",
       "3493                     13              30              41              45   \n",
       "\n",
       "             NUMBER DRAWN 6  BONUS NUMBER  \n",
       "DRAW NUMBER                                \n",
       "3489                     48             4  \n",
       "3490                     41            27  \n",
       "3491                     49            10  \n",
       "3492                     36             9  \n",
       "3493                     49            16  "
      ]
     },
     "execution_count": 8,
     "metadata": {},
     "output_type": "execute_result"
    }
   ],
   "source": [
    "base_reader = pd.read_csv(data_path + file_name + \".csv\")\n",
    "base_reader.set_index(\"DRAW NUMBER\", inplace=True)\n",
    "base_reader.tail()"
   ]
  },
  {
   "cell_type": "code",
   "execution_count": 11,
   "metadata": {
    "nbpresent": {
     "id": "41c93ba9-8d03-429b-b6ce-a7fba584ee4a"
    }
   },
   "outputs": [
    {
     "data": {
      "text/html": [
       "<div>\n",
       "<table border=\"1\" class=\"dataframe\">\n",
       "  <thead>\n",
       "    <tr style=\"text-align: right;\">\n",
       "      <th></th>\n",
       "      <th>NUMBER DRAWN 1</th>\n",
       "      <th>NUMBER DRAWN 2</th>\n",
       "      <th>NUMBER DRAWN 3</th>\n",
       "      <th>NUMBER DRAWN 4</th>\n",
       "      <th>NUMBER DRAWN 5</th>\n",
       "      <th>NUMBER DRAWN 6</th>\n",
       "    </tr>\n",
       "    <tr>\n",
       "      <th>DRAW NUMBER</th>\n",
       "      <th></th>\n",
       "      <th></th>\n",
       "      <th></th>\n",
       "      <th></th>\n",
       "      <th></th>\n",
       "      <th></th>\n",
       "    </tr>\n",
       "  </thead>\n",
       "  <tbody>\n",
       "    <tr>\n",
       "      <th>3489</th>\n",
       "      <td>8</td>\n",
       "      <td>21</td>\n",
       "      <td>25</td>\n",
       "      <td>34</td>\n",
       "      <td>46</td>\n",
       "      <td>48</td>\n",
       "    </tr>\n",
       "    <tr>\n",
       "      <th>3490</th>\n",
       "      <td>15</td>\n",
       "      <td>16</td>\n",
       "      <td>22</td>\n",
       "      <td>33</td>\n",
       "      <td>37</td>\n",
       "      <td>41</td>\n",
       "    </tr>\n",
       "    <tr>\n",
       "      <th>3491</th>\n",
       "      <td>4</td>\n",
       "      <td>9</td>\n",
       "      <td>33</td>\n",
       "      <td>36</td>\n",
       "      <td>47</td>\n",
       "      <td>49</td>\n",
       "    </tr>\n",
       "    <tr>\n",
       "      <th>3492</th>\n",
       "      <td>20</td>\n",
       "      <td>25</td>\n",
       "      <td>26</td>\n",
       "      <td>32</td>\n",
       "      <td>34</td>\n",
       "      <td>36</td>\n",
       "    </tr>\n",
       "    <tr>\n",
       "      <th>3493</th>\n",
       "      <td>12</td>\n",
       "      <td>13</td>\n",
       "      <td>30</td>\n",
       "      <td>41</td>\n",
       "      <td>45</td>\n",
       "      <td>49</td>\n",
       "    </tr>\n",
       "  </tbody>\n",
       "</table>\n",
       "</div>"
      ],
      "text/plain": [
       "             NUMBER DRAWN 1  NUMBER DRAWN 2  NUMBER DRAWN 3  NUMBER DRAWN 4  \\\n",
       "DRAW NUMBER                                                                   \n",
       "3489                      8              21              25              34   \n",
       "3490                     15              16              22              33   \n",
       "3491                      4               9              33              36   \n",
       "3492                     20              25              26              32   \n",
       "3493                     12              13              30              41   \n",
       "\n",
       "             NUMBER DRAWN 5  NUMBER DRAWN 6  \n",
       "DRAW NUMBER                                  \n",
       "3489                     46              48  \n",
       "3490                     37              41  \n",
       "3491                     47              49  \n",
       "3492                     34              36  \n",
       "3493                     45              49  "
      ]
     },
     "execution_count": 11,
     "metadata": {},
     "output_type": "execute_result"
    }
   ],
   "source": [
    "draws = base_reader[[\"NUMBER DRAWN 1\",\"NUMBER DRAWN 2\",\"NUMBER DRAWN 3\",\"NUMBER DRAWN 4\",\"NUMBER DRAWN 5\",\"NUMBER DRAWN 6\"]]\n",
    "draws.tail()\n"
   ]
  },
  {
   "cell_type": "code",
   "execution_count": 14,
   "metadata": {
    "nbpresent": {
     "id": "5aed25c0-3553-4ec0-869b-e070ad43f365"
    }
   },
   "outputs": [
    {
     "data": {
      "image/png": "[encoded data removed]",
      "text/plain": [
       "<matplotlib.figure.Figure at 0x1127b6470>"
      ]
     },
     "metadata": {},
     "output_type": "display_data"
    }
   ],
   "source": [
    "%matplotlib inline\n",
    "import matplotlib.pyplot as plt\n",
    "plt.rcParams['figure.figsize'] = (20.0, 10.0)\n",
    "\n",
    "draws[\"NUMBER DRAWN 1\"].plot()\n",
    "plt.show()"
   ]
  },
  {
   "cell_type": "markdown",
   "metadata": {
    "nbpresent": {
     "id": "6d451b67-a46e-40a5-93c1-3c72ce21bded"
    }
   },
   "source": [
    "## Analysis"
   ]
  },
  {
   "cell_type": "code",
   "execution_count": 15,
   "metadata": {
    "nbpresent": {
     "id": "0808c1f2-1d97-405c-b6e9-154fd2a841a2"
    }
   },
   "outputs": [
    {
     "data": {
      "text/html": [
       "<div>\n",
       "<table border=\"1\" class=\"dataframe\">\n",
       "  <thead>\n",
       "    <tr style=\"text-align: right;\">\n",
       "      <th></th>\n",
       "      <th>NUMBER DRAWN 1</th>\n",
       "    </tr>\n",
       "    <tr>\n",
       "      <th>DRAW NUMBER</th>\n",
       "      <th></th>\n",
       "    </tr>\n",
       "  </thead>\n",
       "  <tbody>\n",
       "    <tr>\n",
       "      <th>1</th>\n",
       "      <td>3</td>\n",
       "    </tr>\n",
       "    <tr>\n",
       "      <th>2</th>\n",
       "      <td>8</td>\n",
       "    </tr>\n",
       "    <tr>\n",
       "      <th>3</th>\n",
       "      <td>1</td>\n",
       "    </tr>\n",
       "    <tr>\n",
       "      <th>4</th>\n",
       "      <td>3</td>\n",
       "    </tr>\n",
       "    <tr>\n",
       "      <th>5</th>\n",
       "      <td>5</td>\n",
       "    </tr>\n",
       "  </tbody>\n",
       "</table>\n",
       "</div>"
      ],
      "text/plain": [
       "             NUMBER DRAWN 1\n",
       "DRAW NUMBER                \n",
       "1                         3\n",
       "2                         8\n",
       "3                         1\n",
       "4                         3\n",
       "5                         5"
      ]
     },
     "execution_count": 15,
     "metadata": {},
     "output_type": "execute_result"
    }
   ],
   "source": [
    "draw_one = draws[[\"NUMBER DRAWN 1\"]]\n",
    "draw_one.head()"
   ]
  },
  {
   "cell_type": "code",
   "execution_count": 47,
   "metadata": {
    "nbpresent": {
     "id": "9bb46328-4b7c-4987-a460-c03786ae7ca3"
    }
   },
   "outputs": [
    {
     "data": {
      "text/plain": [
       "1"
      ]
     },
     "execution_count": 47,
     "metadata": {},
     "output_type": "execute_result"
    }
   ],
   "source": [
    "# store min\n",
    "draw_one_min = draw_one.min()\n",
    "draw_one_min.item()"
   ]
  },
  {
   "cell_type": "code",
   "execution_count": 46,
   "metadata": {
    "nbpresent": {
     "id": "1794263f-12fc-463d-bc14-60ac053d54d1"
    }
   },
   "outputs": [
    {
     "data": {
      "text/plain": [
       "38"
      ]
     },
     "execution_count": 46,
     "metadata": {},
     "output_type": "execute_result"
    }
   ],
   "source": [
    "# store max\n",
    "draw_one_max = draw_one.max()\n",
    "draw_one_max.item()"
   ]
  },
  {
   "cell_type": "code",
   "execution_count": 48,
   "metadata": {
    "nbpresent": {
     "id": "998cdfa7-f043-432f-b7ce-c0d60336a03a"
    }
   },
   "outputs": [
    {
     "data": {
      "text/plain": [
       "1     416\n",
       "2     383\n",
       "4     341\n",
       "3     340\n",
       "5     257\n",
       "6     228\n",
       "7     226\n",
       "9     185\n",
       "8     183\n",
       "10    146\n",
       "11    139\n",
       "12    120\n",
       "13     99\n",
       "14     70\n",
       "15     66\n",
       "16     65\n",
       "17     53\n",
       "18     45\n",
       "20     42\n",
       "19     39\n",
       "21     26\n",
       "23     26\n",
       "22     16\n",
       "24     12\n",
       "27     10\n",
       "26     10\n",
       "28      6\n",
       "25      5\n",
       "30      4\n",
       "29      4\n",
       "31      2\n",
       "33      1\n",
       "32      1\n",
       "38      1\n",
       "Name: NUMBER DRAWN 1, dtype: int64"
      ]
     },
     "execution_count": 48,
     "metadata": {},
     "output_type": "execute_result"
    }
   ],
   "source": [
    "# unique\n",
    "dovc = draw_one['NUMBER DRAWN 1'].value_counts()\n",
    "dovc.columns = [\"value\"]\n",
    "dovc\n"
   ]
  },
  {
   "cell_type": "code",
   "execution_count": 29,
   "metadata": {},
   "outputs": [
    {
     "data": {
      "text/plain": [
       "<matplotlib.axes._subplots.AxesSubplot at 0x106afe6a0>"
      ]
     },
     "execution_count": 29,
     "metadata": {},
     "output_type": "execute_result"
    },
    {
     "data": {
      "image/png": "[encoded data removed]",
      "text/plain": [
       "<matplotlib.figure.Figure at 0x1126f64a8>"
      ]
     },
     "metadata": {},
     "output_type": "display_data"
    }
   ],
   "source": [
    "dovc.plot()"
   ]
  },
  {
   "cell_type": "code",
   "execution_count": 49,
   "metadata": {
    "nbpresent": {
     "id": "9ac73d3f-3311-48e4-a92b-4f719391fd1a"
    }
   },
   "outputs": [
    {
     "data": {
      "text/plain": [
       "416"
      ]
     },
     "execution_count": 49,
     "metadata": {},
     "output_type": "execute_result"
    }
   ],
   "source": [
    "dom = dovc.to_frame()\n",
    "dom.columns = [\"value\"]\n",
    "\n",
    "max_one = dom.iloc[0]\n",
    "max_one.item()\n"
   ]
  },
  {
   "cell_type": "markdown",
   "metadata": {},
   "source": [
    "## Max Numbers"
   ]
  },
  {
   "cell_type": "code",
   "execution_count": 59,
   "metadata": {
    "nbpresent": {
     "id": "fd75d5d1-a525-4ebd-8f40-6aac6b68c488"
    }
   },
   "outputs": [
    {
     "name": "stdout",
     "output_type": "stream",
     "text": [
      "Most drawn number for NUMBER DRAWN 1 is the number 1 at 416 times\n",
      "Most drawn number for NUMBER DRAWN 2 is the number 12 at 190 times\n",
      "Most drawn number for NUMBER DRAWN 3 is the number 22 at 175 times\n",
      "Most drawn number for NUMBER DRAWN 4 is the number 31 at 193 times\n",
      "Most drawn number for NUMBER DRAWN 5 is the number 38 at 205 times\n",
      "Most drawn number for NUMBER DRAWN 6 is the number 49 at 433 times\n"
     ]
    }
   ],
   "source": [
    "\n",
    "total_counts = []\n",
    "total_values = []\n",
    "for index, column in enumerate(draws.columns):\n",
    "    df = draws[column].value_counts().to_frame()\n",
    "    df.columns = [\"value\"]\n",
    "    val = df.iloc[0]\n",
    "    total_counts.append(val.name)\n",
    "    total_values.append(val.value)\n",
    "    print(\"Most drawn number for %s is the number %s at %s times\" % (draws.columns[index], str(val.name), str(val.item())) )"
   ]
  },
  {
   "cell_type": "code",
   "execution_count": 52,
   "metadata": {
    "nbpresent": {
     "id": "6e70315c-db7f-447a-844d-c29198f0da53"
    }
   },
   "outputs": [
    {
     "data": {
      "text/plain": [
       "[1, 12, 22, 31, 38, 49]"
      ]
     },
     "execution_count": 52,
     "metadata": {},
     "output_type": "execute_result"
    }
   ],
   "source": [
    "total_counts"
   ]
  },
  {
   "cell_type": "code",
   "execution_count": 53,
   "metadata": {},
   "outputs": [
    {
     "data": {
      "text/plain": [
       "[416, 190, 175, 193, 205, 433]"
      ]
     },
     "execution_count": 53,
     "metadata": {},
     "output_type": "execute_result"
    }
   ],
   "source": [
    "total_values"
   ]
  },
  {
   "cell_type": "code",
   "execution_count": 91,
   "metadata": {
    "nbpresent": {
     "id": "3e4715d0-f6c2-4215-96df-8c78a45e1a11"
    }
   },
   "outputs": [],
   "source": [
    "index = ['1','2','3','4','5','6']\n",
    "count = 'number chosen'\n",
    "value = 'times chosen'\n",
    "columns = [count,value]\n",
    "df = pd.DataFrame(index=index, columns=columns)\n",
    "df[count] = total_counts\n",
    "df[value] = total_values\n"
   ]
  },
  {
   "cell_type": "code",
   "execution_count": 92,
   "metadata": {
    "nbpresent": {
     "id": "d94f60c7-9fa4-4c20-96df-9d5c2a88fd7e"
    }
   },
   "outputs": [
    {
     "data": {
      "text/html": [
       "<div>\n",
       "<table border=\"1\" class=\"dataframe\">\n",
       "  <thead>\n",
       "    <tr style=\"text-align: right;\">\n",
       "      <th></th>\n",
       "      <th>number chosen</th>\n",
       "      <th>times chosen</th>\n",
       "    </tr>\n",
       "  </thead>\n",
       "  <tbody>\n",
       "    <tr>\n",
       "      <th>1</th>\n",
       "      <td>1</td>\n",
       "      <td>416</td>\n",
       "    </tr>\n",
       "    <tr>\n",
       "      <th>2</th>\n",
       "      <td>12</td>\n",
       "      <td>190</td>\n",
       "    </tr>\n",
       "    <tr>\n",
       "      <th>3</th>\n",
       "      <td>22</td>\n",
       "      <td>175</td>\n",
       "    </tr>\n",
       "    <tr>\n",
       "      <th>4</th>\n",
       "      <td>31</td>\n",
       "      <td>193</td>\n",
       "    </tr>\n",
       "    <tr>\n",
       "      <th>5</th>\n",
       "      <td>38</td>\n",
       "      <td>205</td>\n",
       "    </tr>\n",
       "    <tr>\n",
       "      <th>6</th>\n",
       "      <td>49</td>\n",
       "      <td>433</td>\n",
       "    </tr>\n",
       "  </tbody>\n",
       "</table>\n",
       "</div>"
      ],
      "text/plain": [
       "   number chosen  times chosen\n",
       "1              1           416\n",
       "2             12           190\n",
       "3             22           175\n",
       "4             31           193\n",
       "5             38           205\n",
       "6             49           433"
      ]
     },
     "execution_count": 92,
     "metadata": {},
     "output_type": "execute_result"
    }
   ],
   "source": [
    "df"
   ]
  },
  {
   "cell_type": "code",
   "execution_count": null,
   "metadata": {
    "collapsed": true,
    "nbpresent": {
     "id": "b7ec3f2d-5e13-478b-ad9b-a7f04ed04e25"
    }
   },
   "outputs": [],
   "source": []
  },
  {
   "cell_type": "code",
   "execution_count": null,
   "metadata": {
    "collapsed": true,
    "nbpresent": {
     "id": "caf291c8-392c-4f47-ae1a-3a388f0c2cc6"
    }
   },
   "outputs": [],
   "source": []
  },
  {
   "cell_type": "code",
   "execution_count": null,
   "metadata": {
    "collapsed": true,
    "nbpresent": {
     "id": "b67b048d-9339-4fd7-bff3-fa9dc94cb035"
    }
   },
   "outputs": [],
   "source": []
  },
  {
   "cell_type": "code",
   "execution_count": null,
   "metadata": {
    "collapsed": true,
    "nbpresent": {
     "id": "c8a6c59f-eb3c-4394-bcfc-eeee05f375e9"
    }
   },
   "outputs": [],
   "source": []
  },
  {
   "cell_type": "code",
   "execution_count": null,
   "metadata": {
    "collapsed": true,
    "nbpresent": {
     "id": "36f5dbd3-06ce-40bd-9a2d-0fa6bf583a23"
    }
   },
   "outputs": [],
   "source": []
  },
  {
   "cell_type": "code",
   "execution_count": null,
   "metadata": {
    "collapsed": true,
    "nbpresent": {
     "id": "967bc4ee-6376-44ac-a9a8-8982afd6b056"
    }
   },
   "outputs": [],
   "source": []
  },
  {
   "cell_type": "code",
   "execution_count": null,
   "metadata": {
    "collapsed": true,
    "nbpresent": {
     "id": "b03fd1c9-a140-4b31-9d8e-0d2fd5fbbab2"
    }
   },
   "outputs": [],
   "source": []
  },
  {
   "cell_type": "code",
   "execution_count": null,
   "metadata": {
    "collapsed": true,
    "nbpresent": {
     "id": "87f8951a-5300-4df7-a5ba-64823884ce90"
    }
   },
   "outputs": [],
   "source": []
  },
  {
   "cell_type": "code",
   "execution_count": null,
   "metadata": {
    "collapsed": true,
    "nbpresent": {
     "id": "dfbf11fb-f417-4533-be35-8087eb929f25"
    }
   },
   "outputs": [],
   "source": []
  },
  {
   "cell_type": "code",
   "execution_count": null,
   "metadata": {
    "collapsed": true,
    "nbpresent": {
     "id": "e2ecfbe1-a24c-4c41-a85b-5a3182fa00a3"
    }
   },
   "outputs": [],
   "source": []
  },
  {
   "cell_type": "code",
   "execution_count": null,
   "metadata": {
    "collapsed": true,
    "nbpresent": {
     "id": "a94a6c1f-d7fb-49e1-b9ad-30a834d9210a"
    }
   },
   "outputs": [],
   "source": []
  },
  {
   "cell_type": "code",
   "execution_count": null,
   "metadata": {
    "collapsed": true,
    "nbpresent": {
     "id": "9b9b2ad7-4b3a-4872-859c-7c71f7f86d09"
    }
   },
   "outputs": [],
   "source": []
  },
  {
   "cell_type": "code",
   "execution_count": null,
   "metadata": {
    "collapsed": true,
    "nbpresent": {
     "id": "6b858c71-f47b-4568-8f1f-825ba9c15f34"
    }
   },
   "outputs": [],
   "source": []
  },
  {
   "cell_type": "code",
   "execution_count": null,
   "metadata": {
    "collapsed": true,
    "nbpresent": {
     "id": "e9b57b25-d628-4dc8-a501-01a38544d240"
    }
   },
   "outputs": [],
   "source": []
  },
  {
   "cell_type": "code",
   "execution_count": null,
   "metadata": {
    "collapsed": true,
    "nbpresent": {
     "id": "5fe63cb4-8a30-47ef-924f-1bbee11ed40a"
    }
   },
   "outputs": [],
   "source": []
  },
  {
   "cell_type": "code",
   "execution_count": null,
   "metadata": {
    "collapsed": true,
    "nbpresent": {
     "id": "aff91a37-192c-43d3-a3d5-235433dbe467"
    }
   },
   "outputs": [],
   "source": []
  },
  {
   "cell_type": "code",
   "execution_count": null,
   "metadata": {
    "collapsed": true,
    "nbpresent": {
     "id": "0b11aaa4-66fb-45e6-b3bf-a3d0c4145a28"
    }
   },
   "outputs": [],
   "source": []
  },
  {
   "cell_type": "code",
   "execution_count": null,
   "metadata": {
    "collapsed": true,
    "nbpresent": {
     "id": "9ee82b39-1415-4f65-9aaf-6d33e88ec794"
    }
   },
   "outputs": [],
   "source": []
  },
  {
   "cell_type": "code",
   "execution_count": null,
   "metadata": {
    "collapsed": true,
    "nbpresent": {
     "id": "f99d277d-589a-4f38-bf5c-eccc8c763f21"
    }
   },
   "outputs": [],
   "source": []
  },
  {
   "cell_type": "code",
   "execution_count": null,
   "metadata": {
    "collapsed": true,
    "nbpresent": {
     "id": "4a111f38-3999-4974-9bda-8e97cfa794e6"
    }
   },
   "outputs": [],
   "source": []
  },
  {
   "cell_type": "code",
   "execution_count": null,
   "metadata": {
    "collapsed": true,
    "nbpresent": {
     "id": "ce7f873a-c800-4281-a326-0b486d0783e6"
    }
   },
   "outputs": [],
   "source": []
  },
  {
   "cell_type": "code",
   "execution_count": null,
   "metadata": {
    "collapsed": true,
    "nbpresent": {
     "id": "d2b47ec8-b103-4f42-8d64-5e86eff1c6bc"
    }
   },
   "outputs": [],
   "source": []
  },
  {
   "cell_type": "code",
   "execution_count": null,
   "metadata": {
    "collapsed": true,
    "nbpresent": {
     "id": "8e1d66d9-d61f-49d6-b1ef-2770ab8068d1"
    }
   },
   "outputs": [],
   "source": []
  },
  {
   "cell_type": "code",
   "execution_count": null,
   "metadata": {
    "collapsed": true,
    "nbpresent": {
     "id": "8147054d-6fc7-41af-8e1e-525907b43093"
    }
   },
   "outputs": [],
   "source": []
  },
  {
   "cell_type": "code",
   "execution_count": null,
   "metadata": {
    "collapsed": true,
    "nbpresent": {
     "id": "cbf5c074-81b5-431d-a752-4d0f6ba40d39"
    }
   },
   "outputs": [],
   "source": []
  },
  {
   "cell_type": "code",
   "execution_count": null,
   "metadata": {
    "collapsed": true,
    "nbpresent": {
     "id": "96d43954-dff7-4115-8b53-27137b3286c6"
    }
   },
   "outputs": [],
   "source": []
  },
  {
   "cell_type": "code",
   "execution_count": null,
   "metadata": {
    "collapsed": true,
    "nbpresent": {
     "id": "e686be80-5ee4-4f8d-af0a-c673edff2b2e"
    }
   },
   "outputs": [],
   "source": []
  },
  {
   "cell_type": "code",
   "execution_count": null,
   "metadata": {
    "collapsed": true,
    "nbpresent": {
     "id": "fbb84afa-80f5-413a-bb96-0c0853a859ec"
    }
   },
   "outputs": [],
   "source": []
  },
  {
   "cell_type": "code",
   "execution_count": null,
   "metadata": {
    "collapsed": true,
    "nbpresent": {
     "id": "c59420d6-a596-466b-ae7e-582daf713f0c"
    }
   },
   "outputs": [],
   "source": []
  },
  {
   "cell_type": "code",
   "execution_count": null,
   "metadata": {
    "collapsed": true,
    "nbpresent": {
     "id": "ee9ffa23-606d-49a1-bcfb-f58ebc1e03c1"
    }
   },
   "outputs": [],
   "source": []
  },
  {
   "cell_type": "code",
   "execution_count": null,
   "metadata": {
    "collapsed": true,
    "nbpresent": {
     "id": "33defd3e-bacd-4210-9c94-613073d88477"
    }
   },
   "outputs": [],
   "source": []
  },
  {
   "cell_type": "code",
   "execution_count": null,
   "metadata": {
    "collapsed": true,
    "nbpresent": {
     "id": "38eab938-ee9c-4680-bef6-e6558f4eec8e"
    }
   },
   "outputs": [],
   "source": []
  },
  {
   "cell_type": "code",
   "execution_count": null,
   "metadata": {
    "collapsed": true,
    "nbpresent": {
     "id": "6acc1bd5-b99d-41a7-8979-85637fbb7730"
    }
   },
   "outputs": [],
   "source": []
  },
  {
   "cell_type": "code",
   "execution_count": null,
   "metadata": {
    "collapsed": true,
    "nbpresent": {
     "id": "61b8784f-9a17-49f5-9e2b-a8e13ffad773"
    }
   },
   "outputs": [],
   "source": []
  },
  {
   "cell_type": "code",
   "execution_count": null,
   "metadata": {
    "collapsed": true,
    "nbpresent": {
     "id": "f8abda38-f26f-4660-86b4-9a788734b23a"
    }
   },
   "outputs": [],
   "source": []
  },
  {
   "cell_type": "code",
   "execution_count": null,
   "metadata": {
    "collapsed": true,
    "nbpresent": {
     "id": "28269391-9a6c-4b6e-bc74-6327b7571e44"
    }
   },
   "outputs": [],
   "source": []
  },
  {
   "cell_type": "code",
   "execution_count": null,
   "metadata": {
    "collapsed": true,
    "nbpresent": {
     "id": "4bab90fb-c416-4b6a-95fa-9a1d202d63a7"
    }
   },
   "outputs": [],
   "source": []
  },
  {
   "cell_type": "code",
   "execution_count": null,
   "metadata": {
    "collapsed": true,
    "nbpresent": {
     "id": "1f8a3f4d-8636-4f91-a052-2c936a105800"
    }
   },
   "outputs": [],
   "source": []
  },
  {
   "cell_type": "code",
   "execution_count": null,
   "metadata": {
    "collapsed": true,
    "nbpresent": {
     "id": "ee301510-1c52-49b0-96e5-dea654ba7d87"
    }
   },
   "outputs": [],
   "source": []
  },
  {
   "cell_type": "code",
   "execution_count": null,
   "metadata": {
    "collapsed": true,
    "nbpresent": {
     "id": "e3bc58cf-6471-4b49-b715-9a4b285243e2"
    }
   },
   "outputs": [],
   "source": []
  },
  {
   "cell_type": "code",
   "execution_count": 2,
   "metadata": {
    "collapsed": true,
    "nbpresent": {
     "id": "c4d0550e-ee7e-4122-a6a2-15aef0d69f50"
    }
   },
   "outputs": [],
   "source": []
  },
  {
   "cell_type": "code",
   "execution_count": null,
   "metadata": {
    "collapsed": true,
    "nbpresent": {
     "id": "8dad12c9-1bc0-4e8c-99e9-1830f7f2ef8c"
    }
   },
   "outputs": [],
   "source": []
  },
  {
   "cell_type": "code",
   "execution_count": null,
   "metadata": {
    "collapsed": true,
    "nbpresent": {
     "id": "56a0e34f-4d4a-456a-833d-6f102827a423"
    }
   },
   "outputs": [],
   "source": []
  },
  {
   "cell_type": "code",
   "execution_count": null,
   "metadata": {
    "collapsed": true,
    "nbpresent": {
     "id": "ccc7d6b2-606c-4a16-b076-f6ca7dfb9265"
    }
   },
   "outputs": [],
   "source": []
  },
  {
   "cell_type": "code",
   "execution_count": 3,
   "metadata": {
    "collapsed": true,
    "nbpresent": {
     "id": "6d500da0-8c21-49c5-840d-16158bd33609"
    }
   },
   "outputs": [],
   "source": []
  },
  {
   "cell_type": "code",
   "execution_count": null,
   "metadata": {
    "collapsed": true,
    "nbpresent": {
     "id": "e9aba4fb-7f4a-4758-b840-6c3af1fe3d96"
    }
   },
   "outputs": [],
   "source": [
    "\n"
   ]
  },
  {
   "cell_type": "code",
   "execution_count": null,
   "metadata": {
    "collapsed": true,
    "nbpresent": {
     "id": "40777118-7e8e-4be9-af20-98aa8ea75245"
    }
   },
   "outputs": [],
   "source": []
  },
  {
   "cell_type": "code",
   "execution_count": null,
   "metadata": {
    "collapsed": true,
    "nbpresent": {
     "id": "6cb592b4-925a-4c72-bd7f-72f6098448cb"
    }
   },
   "outputs": [],
   "source": []
  }
 ],
 "metadata": {
  "anaconda-cloud": {},
  "kernelspec": {
   "display_name": "Python [conda env:py3]",
   "language": "python",
   "name": "conda-env-py3-py"
  },
  "language_info": {
   "codemirror_mode": {
    "name": "ipython",
    "version": 3
   },
   "file_extension": ".py",
   "mimetype": "text/x-python",
   "name": "python",
   "nbconvert_exporter": "python",
   "pygments_lexer": "ipython3",
   "version": "3.5.2"
  },
  "nbpresent": {
   "slides": {},
   "themes": {
    "default": "71d481f0-e879-441e-b145-8c1789eece9d",
    "theme": {
     "71d481f0-e879-441e-b145-8c1789eece9d": {
      "id": "71d481f0-e879-441e-b145-8c1789eece9d",
      "palette": {
       "19cc588f-0593-49c9-9f4b-e4d7cc113b1c": {
        "id": "19cc588f-0593-49c9-9f4b-e4d7cc113b1c",
        "rgb": [
         252,
         252,
         252
        ]
       },
       "31af15d2-7e15-44c5-ab5e-e04b16a89eff": {
        "id": "31af15d2-7e15-44c5-ab5e-e04b16a89eff",
        "rgb": [
         68,
         68,
         68
        ]
       },
       "50f92c45-a630-455b-aec3-788680ec7410": {
        "id": "50f92c45-a630-455b-aec3-788680ec7410",
        "rgb": [
         155,
         177,
         192
        ]
       },
       "c5cc3653-2ee1-402a-aba2-7caae1da4f6c": {
        "id": "c5cc3653-2ee1-402a-aba2-7caae1da4f6c",
        "rgb": [
         43,
         126,
         184
        ]
       },
       "efa7f048-9acb-414c-8b04-a26811511a21": {
        "id": "efa7f048-9acb-414c-8b04-a26811511a21",
        "rgb": [
         25.118061674008803,
         73.60176211453744,
         107.4819383259912
        ]
       }
      },
      "rules": {
       "blockquote": {
        "color": "50f92c45-a630-455b-aec3-788680ec7410"
       },
       "code": {
        "font-family": "Anonymous Pro"
       },
       "h1": {
        "color": "c5cc3653-2ee1-402a-aba2-7caae1da4f6c",
        "font-family": "Lato",
        "font-size": 8
       },
       "h2": {
        "color": "c5cc3653-2ee1-402a-aba2-7caae1da4f6c",
        "font-family": "Lato",
        "font-size": 6
       },
       "h3": {
        "color": "50f92c45-a630-455b-aec3-788680ec7410",
        "font-family": "Lato",
        "font-size": 5.5
       },
       "h4": {
        "color": "c5cc3653-2ee1-402a-aba2-7caae1da4f6c",
        "font-family": "Lato",
        "font-size": 5
       },
       "h5": {
        "font-family": "Lato"
       },
       "h6": {
        "font-family": "Lato"
       },
       "h7": {
        "font-family": "Lato"
       },
       "pre": {
        "font-family": "Anonymous Pro",
        "font-size": 4
       }
      },
      "text-base": {
       "font-family": "Merriweather",
       "font-size": 4
      }
     }
    }
   }
  }
 },
 "nbformat": 4,
 "nbformat_minor": 1
}
